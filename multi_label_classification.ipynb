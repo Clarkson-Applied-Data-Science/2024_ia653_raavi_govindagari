{
  "nbformat": 4,
  "nbformat_minor": 0,
  "metadata": {
    "colab": {
      "provenance": [],
      "gpuType": "T4"
    },
    "kernelspec": {
      "name": "python3",
      "display_name": "Python 3"
    },
    "language_info": {
      "name": "python"
    },
    "accelerator": "GPU"
  },
  "cells": [
    {
      "cell_type": "markdown",
      "source": [
        "#Installing required dependencies"
      ],
      "metadata": {
        "id": "o71-3IUoQCaA"
      }
    },
    {
      "cell_type": "code",
      "execution_count": 1,
      "metadata": {
        "id": "S_oCMIXrDCYh"
      },
      "outputs": [],
      "source": [
        "import requests\n",
        "import json\n",
        "from pathlib import Path\n",
        "\n",
        "import pandas as pd\n",
        "import numpy as np\n",
        "import matplotlib.pyplot as plt\n",
        "\n",
        "from itertools import combinations\n",
        "from collections import Counter\n",
        "\n",
        "from tensorflow.keras import layers, models, Input\n",
        "from tensorflow import keras\n",
        "import tensorflow as tf\n",
        "from tensorflow.keras.callbacks import EarlyStopping\n",
        "\n",
        "from sklearn.model_selection import train_test_split\n",
        "from ast import literal_eval\n",
        "from sklearn.metrics import precision_score, recall_score, f1_score\n",
        "\n",
        "import nltk\n",
        "from nltk.stem import WordNetLemmatizer\n",
        "from nltk.corpus import stopwords\n",
        "import re"
      ]
    },
    {
      "cell_type": "code",
      "source": [
        "nltk.download('stopwords')\n",
        "nltk.download('wordnet')"
      ],
      "metadata": {
        "id": "YA7vV9-kxgha",
        "colab": {
          "base_uri": "https://localhost:8080/"
        },
        "outputId": "b426245b-9bf2-42eb-edf0-5035ac5db35a"
      },
      "execution_count": 2,
      "outputs": [
        {
          "output_type": "stream",
          "name": "stderr",
          "text": [
            "[nltk_data] Downloading package stopwords to /root/nltk_data...\n",
            "[nltk_data]   Unzipping corpora/stopwords.zip.\n",
            "[nltk_data] Downloading package wordnet to /root/nltk_data...\n"
          ]
        },
        {
          "output_type": "execute_result",
          "data": {
            "text/plain": [
              "True"
            ]
          },
          "metadata": {},
          "execution_count": 2
        }
      ]
    },
    {
      "cell_type": "markdown",
      "source": [
        "#Downloading Dataset"
      ],
      "metadata": {
        "id": "Q1Emq4o5Dygm"
      }
    },
    {
      "cell_type": "code",
      "source": [
        "dataset_url = \"https://www.federalregister.gov/api/v1/documents\"\n",
        "params = {\"format\": \"json\", \"per_page\": 2000}\n",
        "\n",
        "docs = []\n",
        "total_documents = 10000\n",
        "downloaded = 0\n",
        "\n",
        "while downloaded < total_documents:\n",
        "    response = requests.get(dataset_url, params=params)\n",
        "    if response.status_code == 200:\n",
        "        data = response.json()\n",
        "        results = data.get(\"results\", [])\n",
        "        docs.extend(results)\n",
        "        downloaded += len(results)\n",
        "        dataset_url = data.get(\"next_page_url\")\n",
        "        if not dataset_url:\n",
        "            break\n",
        "    else:\n",
        "        print(f\"Failed to fetch data. HTTP Status Code: {response.status_code}\")\n",
        "        break\n",
        "\n",
        "total_docs = docs[:total_documents]\n",
        "with open(\"federal_register.json\", \"w\", encoding=\"utf-8\") as file:\n",
        "    json.dump(total_docs, file, ensure_ascii=False)\n",
        "print(f\"Successfully downloaded {len(total_docs)} documents to 'federal_register.json'\")"
      ],
      "metadata": {
        "colab": {
          "base_uri": "https://localhost:8080/"
        },
        "id": "et2TwaP2DsVj",
        "outputId": "d520e55e-f7f2-40c1-cb0e-24b9b2b8b5e3"
      },
      "execution_count": 3,
      "outputs": [
        {
          "output_type": "stream",
          "name": "stdout",
          "text": [
            "Successfully downloaded 10000 documents to 'federal_register.json'\n"
          ]
        }
      ]
    },
    {
      "cell_type": "code",
      "source": [
        "data_set = pd.read_json('federal_register.json')\n",
        "data_set.head()"
      ],
      "metadata": {
        "colab": {
          "base_uri": "https://localhost:8080/",
          "height": 729
        },
        "id": "11TRcET4EMGx",
        "outputId": "4ed06a21-31fb-4084-a008-52dde65d1916"
      },
      "execution_count": 4,
      "outputs": [
        {
          "output_type": "execute_result",
          "data": {
            "text/plain": [
              "                                               title    type  \\\n",
              "0  Agency Information Collection Activities; Subm...  Notice   \n",
              "1  Approval of Subzone Status; Canoo Inc., Pryor,...  Notice   \n",
              "2  Foreign-Trade Zone 40; Application for Expansi...  Notice   \n",
              "3  Foreign-Trade Zone 2-New Orleans, Louisiana; A...  Notice   \n",
              "4  Agency Information Collection Activities; Subm...  Notice   \n",
              "\n",
              "                                            abstract document_number  \\\n",
              "0  The Department of Commerce, in accordance with...      2024-28463   \n",
              "1                                               None      2024-28472   \n",
              "2                                               None      2024-28473   \n",
              "3                                               None      2024-28471   \n",
              "4  The Department of Commerce, in accordance with...      2024-28460   \n",
              "\n",
              "                                            html_url  \\\n",
              "0  https://www.federalregister.gov/documents/2024...   \n",
              "1  https://www.federalregister.gov/documents/2024...   \n",
              "2  https://www.federalregister.gov/documents/2024...   \n",
              "3  https://www.federalregister.gov/documents/2024...   \n",
              "4  https://www.federalregister.gov/documents/2024...   \n",
              "\n",
              "                                             pdf_url  \\\n",
              "0  https://www.govinfo.gov/content/pkg/FR-2024-12...   \n",
              "1  https://www.govinfo.gov/content/pkg/FR-2024-12...   \n",
              "2  https://www.govinfo.gov/content/pkg/FR-2024-12...   \n",
              "3  https://www.govinfo.gov/content/pkg/FR-2024-12...   \n",
              "4  https://www.govinfo.gov/content/pkg/FR-2024-12...   \n",
              "\n",
              "                           public_inspection_pdf_url publication_date  \\\n",
              "0  https://public-inspection.federalregister.gov/...       2024-12-05   \n",
              "1  https://public-inspection.federalregister.gov/...       2024-12-05   \n",
              "2  https://public-inspection.federalregister.gov/...       2024-12-05   \n",
              "3  https://public-inspection.federalregister.gov/...       2024-12-05   \n",
              "4  https://public-inspection.federalregister.gov/...       2024-12-05   \n",
              "\n",
              "                                            agencies  \\\n",
              "0  [{'raw_name': 'DEPARTMENT OF COMMERCE', 'name'...   \n",
              "1  [{'raw_name': 'DEPARTMENT OF COMMERCE', 'name'...   \n",
              "2  [{'raw_name': 'DEPARTMENT OF COMMERCE', 'name'...   \n",
              "3  [{'raw_name': 'DEPARTMENT OF COMMERCE', 'name'...   \n",
              "4  [{'raw_name': 'DEPARTMENT OF COMMERCE', 'name'...   \n",
              "\n",
              "                                            excerpts  \n",
              "0  The Department of Commerce, in accordance with...  \n",
              "1                                               None  \n",
              "2                                               None  \n",
              "3                                               None  \n",
              "4  The Department of Commerce, in accordance with...  "
            ],
            "text/html": [
              "\n",
              "  <div id=\"df-bb936d83-832d-4965-ad5b-179f22ad5a39\" class=\"colab-df-container\">\n",
              "    <div>\n",
              "<style scoped>\n",
              "    .dataframe tbody tr th:only-of-type {\n",
              "        vertical-align: middle;\n",
              "    }\n",
              "\n",
              "    .dataframe tbody tr th {\n",
              "        vertical-align: top;\n",
              "    }\n",
              "\n",
              "    .dataframe thead th {\n",
              "        text-align: right;\n",
              "    }\n",
              "</style>\n",
              "<table border=\"1\" class=\"dataframe\">\n",
              "  <thead>\n",
              "    <tr style=\"text-align: right;\">\n",
              "      <th></th>\n",
              "      <th>title</th>\n",
              "      <th>type</th>\n",
              "      <th>abstract</th>\n",
              "      <th>document_number</th>\n",
              "      <th>html_url</th>\n",
              "      <th>pdf_url</th>\n",
              "      <th>public_inspection_pdf_url</th>\n",
              "      <th>publication_date</th>\n",
              "      <th>agencies</th>\n",
              "      <th>excerpts</th>\n",
              "    </tr>\n",
              "  </thead>\n",
              "  <tbody>\n",
              "    <tr>\n",
              "      <th>0</th>\n",
              "      <td>Agency Information Collection Activities; Subm...</td>\n",
              "      <td>Notice</td>\n",
              "      <td>The Department of Commerce, in accordance with...</td>\n",
              "      <td>2024-28463</td>\n",
              "      <td>https://www.federalregister.gov/documents/2024...</td>\n",
              "      <td>https://www.govinfo.gov/content/pkg/FR-2024-12...</td>\n",
              "      <td>https://public-inspection.federalregister.gov/...</td>\n",
              "      <td>2024-12-05</td>\n",
              "      <td>[{'raw_name': 'DEPARTMENT OF COMMERCE', 'name'...</td>\n",
              "      <td>The Department of Commerce, in accordance with...</td>\n",
              "    </tr>\n",
              "    <tr>\n",
              "      <th>1</th>\n",
              "      <td>Approval of Subzone Status; Canoo Inc., Pryor,...</td>\n",
              "      <td>Notice</td>\n",
              "      <td>None</td>\n",
              "      <td>2024-28472</td>\n",
              "      <td>https://www.federalregister.gov/documents/2024...</td>\n",
              "      <td>https://www.govinfo.gov/content/pkg/FR-2024-12...</td>\n",
              "      <td>https://public-inspection.federalregister.gov/...</td>\n",
              "      <td>2024-12-05</td>\n",
              "      <td>[{'raw_name': 'DEPARTMENT OF COMMERCE', 'name'...</td>\n",
              "      <td>None</td>\n",
              "    </tr>\n",
              "    <tr>\n",
              "      <th>2</th>\n",
              "      <td>Foreign-Trade Zone 40; Application for Expansi...</td>\n",
              "      <td>Notice</td>\n",
              "      <td>None</td>\n",
              "      <td>2024-28473</td>\n",
              "      <td>https://www.federalregister.gov/documents/2024...</td>\n",
              "      <td>https://www.govinfo.gov/content/pkg/FR-2024-12...</td>\n",
              "      <td>https://public-inspection.federalregister.gov/...</td>\n",
              "      <td>2024-12-05</td>\n",
              "      <td>[{'raw_name': 'DEPARTMENT OF COMMERCE', 'name'...</td>\n",
              "      <td>None</td>\n",
              "    </tr>\n",
              "    <tr>\n",
              "      <th>3</th>\n",
              "      <td>Foreign-Trade Zone 2-New Orleans, Louisiana; A...</td>\n",
              "      <td>Notice</td>\n",
              "      <td>None</td>\n",
              "      <td>2024-28471</td>\n",
              "      <td>https://www.federalregister.gov/documents/2024...</td>\n",
              "      <td>https://www.govinfo.gov/content/pkg/FR-2024-12...</td>\n",
              "      <td>https://public-inspection.federalregister.gov/...</td>\n",
              "      <td>2024-12-05</td>\n",
              "      <td>[{'raw_name': 'DEPARTMENT OF COMMERCE', 'name'...</td>\n",
              "      <td>None</td>\n",
              "    </tr>\n",
              "    <tr>\n",
              "      <th>4</th>\n",
              "      <td>Agency Information Collection Activities; Subm...</td>\n",
              "      <td>Notice</td>\n",
              "      <td>The Department of Commerce, in accordance with...</td>\n",
              "      <td>2024-28460</td>\n",
              "      <td>https://www.federalregister.gov/documents/2024...</td>\n",
              "      <td>https://www.govinfo.gov/content/pkg/FR-2024-12...</td>\n",
              "      <td>https://public-inspection.federalregister.gov/...</td>\n",
              "      <td>2024-12-05</td>\n",
              "      <td>[{'raw_name': 'DEPARTMENT OF COMMERCE', 'name'...</td>\n",
              "      <td>The Department of Commerce, in accordance with...</td>\n",
              "    </tr>\n",
              "  </tbody>\n",
              "</table>\n",
              "</div>\n",
              "    <div class=\"colab-df-buttons\">\n",
              "\n",
              "  <div class=\"colab-df-container\">\n",
              "    <button class=\"colab-df-convert\" onclick=\"convertToInteractive('df-bb936d83-832d-4965-ad5b-179f22ad5a39')\"\n",
              "            title=\"Convert this dataframe to an interactive table.\"\n",
              "            style=\"display:none;\">\n",
              "\n",
              "  <svg xmlns=\"http://www.w3.org/2000/svg\" height=\"24px\" viewBox=\"0 -960 960 960\">\n",
              "    <path d=\"M120-120v-720h720v720H120Zm60-500h600v-160H180v160Zm220 220h160v-160H400v160Zm0 220h160v-160H400v160ZM180-400h160v-160H180v160Zm440 0h160v-160H620v160ZM180-180h160v-160H180v160Zm440 0h160v-160H620v160Z\"/>\n",
              "  </svg>\n",
              "    </button>\n",
              "\n",
              "  <style>\n",
              "    .colab-df-container {\n",
              "      display:flex;\n",
              "      gap: 12px;\n",
              "    }\n",
              "\n",
              "    .colab-df-convert {\n",
              "      background-color: #E8F0FE;\n",
              "      border: none;\n",
              "      border-radius: 50%;\n",
              "      cursor: pointer;\n",
              "      display: none;\n",
              "      fill: #1967D2;\n",
              "      height: 32px;\n",
              "      padding: 0 0 0 0;\n",
              "      width: 32px;\n",
              "    }\n",
              "\n",
              "    .colab-df-convert:hover {\n",
              "      background-color: #E2EBFA;\n",
              "      box-shadow: 0px 1px 2px rgba(60, 64, 67, 0.3), 0px 1px 3px 1px rgba(60, 64, 67, 0.15);\n",
              "      fill: #174EA6;\n",
              "    }\n",
              "\n",
              "    .colab-df-buttons div {\n",
              "      margin-bottom: 4px;\n",
              "    }\n",
              "\n",
              "    [theme=dark] .colab-df-convert {\n",
              "      background-color: #3B4455;\n",
              "      fill: #D2E3FC;\n",
              "    }\n",
              "\n",
              "    [theme=dark] .colab-df-convert:hover {\n",
              "      background-color: #434B5C;\n",
              "      box-shadow: 0px 1px 3px 1px rgba(0, 0, 0, 0.15);\n",
              "      filter: drop-shadow(0px 1px 2px rgba(0, 0, 0, 0.3));\n",
              "      fill: #FFFFFF;\n",
              "    }\n",
              "  </style>\n",
              "\n",
              "    <script>\n",
              "      const buttonEl =\n",
              "        document.querySelector('#df-bb936d83-832d-4965-ad5b-179f22ad5a39 button.colab-df-convert');\n",
              "      buttonEl.style.display =\n",
              "        google.colab.kernel.accessAllowed ? 'block' : 'none';\n",
              "\n",
              "      async function convertToInteractive(key) {\n",
              "        const element = document.querySelector('#df-bb936d83-832d-4965-ad5b-179f22ad5a39');\n",
              "        const dataTable =\n",
              "          await google.colab.kernel.invokeFunction('convertToInteractive',\n",
              "                                                    [key], {});\n",
              "        if (!dataTable) return;\n",
              "\n",
              "        const docLinkHtml = 'Like what you see? Visit the ' +\n",
              "          '<a target=\"_blank\" href=https://colab.research.google.com/notebooks/data_table.ipynb>data table notebook</a>'\n",
              "          + ' to learn more about interactive tables.';\n",
              "        element.innerHTML = '';\n",
              "        dataTable['output_type'] = 'display_data';\n",
              "        await google.colab.output.renderOutput(dataTable, element);\n",
              "        const docLink = document.createElement('div');\n",
              "        docLink.innerHTML = docLinkHtml;\n",
              "        element.appendChild(docLink);\n",
              "      }\n",
              "    </script>\n",
              "  </div>\n",
              "\n",
              "\n",
              "<div id=\"df-d3d3fb9b-3f9c-44f4-82e1-dd98f627f579\">\n",
              "  <button class=\"colab-df-quickchart\" onclick=\"quickchart('df-d3d3fb9b-3f9c-44f4-82e1-dd98f627f579')\"\n",
              "            title=\"Suggest charts\"\n",
              "            style=\"display:none;\">\n",
              "\n",
              "<svg xmlns=\"http://www.w3.org/2000/svg\" height=\"24px\"viewBox=\"0 0 24 24\"\n",
              "     width=\"24px\">\n",
              "    <g>\n",
              "        <path d=\"M19 3H5c-1.1 0-2 .9-2 2v14c0 1.1.9 2 2 2h14c1.1 0 2-.9 2-2V5c0-1.1-.9-2-2-2zM9 17H7v-7h2v7zm4 0h-2V7h2v10zm4 0h-2v-4h2v4z\"/>\n",
              "    </g>\n",
              "</svg>\n",
              "  </button>\n",
              "\n",
              "<style>\n",
              "  .colab-df-quickchart {\n",
              "      --bg-color: #E8F0FE;\n",
              "      --fill-color: #1967D2;\n",
              "      --hover-bg-color: #E2EBFA;\n",
              "      --hover-fill-color: #174EA6;\n",
              "      --disabled-fill-color: #AAA;\n",
              "      --disabled-bg-color: #DDD;\n",
              "  }\n",
              "\n",
              "  [theme=dark] .colab-df-quickchart {\n",
              "      --bg-color: #3B4455;\n",
              "      --fill-color: #D2E3FC;\n",
              "      --hover-bg-color: #434B5C;\n",
              "      --hover-fill-color: #FFFFFF;\n",
              "      --disabled-bg-color: #3B4455;\n",
              "      --disabled-fill-color: #666;\n",
              "  }\n",
              "\n",
              "  .colab-df-quickchart {\n",
              "    background-color: var(--bg-color);\n",
              "    border: none;\n",
              "    border-radius: 50%;\n",
              "    cursor: pointer;\n",
              "    display: none;\n",
              "    fill: var(--fill-color);\n",
              "    height: 32px;\n",
              "    padding: 0;\n",
              "    width: 32px;\n",
              "  }\n",
              "\n",
              "  .colab-df-quickchart:hover {\n",
              "    background-color: var(--hover-bg-color);\n",
              "    box-shadow: 0 1px 2px rgba(60, 64, 67, 0.3), 0 1px 3px 1px rgba(60, 64, 67, 0.15);\n",
              "    fill: var(--button-hover-fill-color);\n",
              "  }\n",
              "\n",
              "  .colab-df-quickchart-complete:disabled,\n",
              "  .colab-df-quickchart-complete:disabled:hover {\n",
              "    background-color: var(--disabled-bg-color);\n",
              "    fill: var(--disabled-fill-color);\n",
              "    box-shadow: none;\n",
              "  }\n",
              "\n",
              "  .colab-df-spinner {\n",
              "    border: 2px solid var(--fill-color);\n",
              "    border-color: transparent;\n",
              "    border-bottom-color: var(--fill-color);\n",
              "    animation:\n",
              "      spin 1s steps(1) infinite;\n",
              "  }\n",
              "\n",
              "  @keyframes spin {\n",
              "    0% {\n",
              "      border-color: transparent;\n",
              "      border-bottom-color: var(--fill-color);\n",
              "      border-left-color: var(--fill-color);\n",
              "    }\n",
              "    20% {\n",
              "      border-color: transparent;\n",
              "      border-left-color: var(--fill-color);\n",
              "      border-top-color: var(--fill-color);\n",
              "    }\n",
              "    30% {\n",
              "      border-color: transparent;\n",
              "      border-left-color: var(--fill-color);\n",
              "      border-top-color: var(--fill-color);\n",
              "      border-right-color: var(--fill-color);\n",
              "    }\n",
              "    40% {\n",
              "      border-color: transparent;\n",
              "      border-right-color: var(--fill-color);\n",
              "      border-top-color: var(--fill-color);\n",
              "    }\n",
              "    60% {\n",
              "      border-color: transparent;\n",
              "      border-right-color: var(--fill-color);\n",
              "    }\n",
              "    80% {\n",
              "      border-color: transparent;\n",
              "      border-right-color: var(--fill-color);\n",
              "      border-bottom-color: var(--fill-color);\n",
              "    }\n",
              "    90% {\n",
              "      border-color: transparent;\n",
              "      border-bottom-color: var(--fill-color);\n",
              "    }\n",
              "  }\n",
              "</style>\n",
              "\n",
              "  <script>\n",
              "    async function quickchart(key) {\n",
              "      const quickchartButtonEl =\n",
              "        document.querySelector('#' + key + ' button');\n",
              "      quickchartButtonEl.disabled = true;  // To prevent multiple clicks.\n",
              "      quickchartButtonEl.classList.add('colab-df-spinner');\n",
              "      try {\n",
              "        const charts = await google.colab.kernel.invokeFunction(\n",
              "            'suggestCharts', [key], {});\n",
              "      } catch (error) {\n",
              "        console.error('Error during call to suggestCharts:', error);\n",
              "      }\n",
              "      quickchartButtonEl.classList.remove('colab-df-spinner');\n",
              "      quickchartButtonEl.classList.add('colab-df-quickchart-complete');\n",
              "    }\n",
              "    (() => {\n",
              "      let quickchartButtonEl =\n",
              "        document.querySelector('#df-d3d3fb9b-3f9c-44f4-82e1-dd98f627f579 button');\n",
              "      quickchartButtonEl.style.display =\n",
              "        google.colab.kernel.accessAllowed ? 'block' : 'none';\n",
              "    })();\n",
              "  </script>\n",
              "</div>\n",
              "\n",
              "    </div>\n",
              "  </div>\n"
            ],
            "application/vnd.google.colaboratory.intrinsic+json": {
              "type": "dataframe",
              "variable_name": "data_set",
              "summary": "{\n  \"name\": \"data_set\",\n  \"rows\": 10000,\n  \"fields\": [\n    {\n      \"column\": \"title\",\n      \"properties\": {\n        \"dtype\": \"string\",\n        \"num_unique_values\": 6650,\n        \"samples\": [\n          \"Frozen Warmwater Shrimp From Ecuador: Final Affirmative Countervailing Duty Determination\",\n          \"Agency Information Collection Activities; Tribal Trust Evaluations for Compact Tribes\",\n          \"Notice of Intention To Cancel Registration of Certain Municipal Advisors Pursuant to Section 15b(C)(3) of the Securities Exchange Act of 1934\"\n        ],\n        \"semantic_type\": \"\",\n        \"description\": \"\"\n      }\n    },\n    {\n      \"column\": \"type\",\n      \"properties\": {\n        \"dtype\": \"category\",\n        \"num_unique_values\": 4,\n        \"samples\": [\n          \"Presidential Document\",\n          \"Proposed Rule\",\n          \"Notice\"\n        ],\n        \"semantic_type\": \"\",\n        \"description\": \"\"\n      }\n    },\n    {\n      \"column\": \"abstract\",\n      \"properties\": {\n        \"dtype\": \"string\",\n        \"num_unique_values\": 5494,\n        \"samples\": [\n          \"The National Labor Relations Board is issuing this notice that the individuals whose names and position titles appear below have been appointed to serve as members of performance review boards in the National Labor Relations Board for the rating year beginning October 1, 2023 and ending September 30, 2024.\",\n          \"Based on affirmative final determinations by the U.S. Department of Commerce (Commerce) and the U.S. International Trade Commission (ITC), Commerce is issuing antidumping duty (AD) and countervailing duty (CVD) orders on ferrosilicon from the Russian Federation (Russia).\",\n          \"In accordance with the Federal Advisory Committee Act, the National Aeronautics and Space Administration (NASA) announces a meeting of the Astrophysics Advisory Committee.\"\n        ],\n        \"semantic_type\": \"\",\n        \"description\": \"\"\n      }\n    },\n    {\n      \"column\": \"document_number\",\n      \"properties\": {\n        \"dtype\": \"string\",\n        \"num_unique_values\": 10000,\n        \"samples\": [\n          \"2024-22051\",\n          \"2024-23765\",\n          \"2024-26613\"\n        ],\n        \"semantic_type\": \"\",\n        \"description\": \"\"\n      }\n    },\n    {\n      \"column\": \"html_url\",\n      \"properties\": {\n        \"dtype\": \"string\",\n        \"num_unique_values\": 10000,\n        \"samples\": [\n          \"https://www.federalregister.gov/documents/2024/09/26/2024-22051/submission-for-omb-review-comment-request\",\n          \"https://www.federalregister.gov/documents/2024/10/15/2024-23765/pipeline-safety-request-for-special-permit-tc-energy-for-gas-transmission-northwest-llc\",\n          \"https://www.federalregister.gov/documents/2024/11/15/2024-26613/product-change-priority-mail-express-priority-mail-and-usps-ground-advantage-negotiated-service\"\n        ],\n        \"semantic_type\": \"\",\n        \"description\": \"\"\n      }\n    },\n    {\n      \"column\": \"pdf_url\",\n      \"properties\": {\n        \"dtype\": \"string\",\n        \"num_unique_values\": 10000,\n        \"samples\": [\n          \"https://www.govinfo.gov/content/pkg/FR-2024-09-26/pdf/2024-22051.pdf\",\n          \"https://www.govinfo.gov/content/pkg/FR-2024-10-15/pdf/2024-23765.pdf\",\n          \"https://www.govinfo.gov/content/pkg/FR-2024-11-15/pdf/2024-26613.pdf\"\n        ],\n        \"semantic_type\": \"\",\n        \"description\": \"\"\n      }\n    },\n    {\n      \"column\": \"public_inspection_pdf_url\",\n      \"properties\": {\n        \"dtype\": \"string\",\n        \"num_unique_values\": 10000,\n        \"samples\": [\n          \"https://public-inspection.federalregister.gov/2024-22051.pdf?1727268328\",\n          \"https://public-inspection.federalregister.gov/2024-23765.pdf?1728650760\",\n          \"https://public-inspection.federalregister.gov/2024-26613.pdf?1731591937\"\n        ],\n        \"semantic_type\": \"\",\n        \"description\": \"\"\n      }\n    },\n    {\n      \"column\": \"publication_date\",\n      \"properties\": {\n        \"dtype\": \"object\",\n        \"num_unique_values\": 77,\n        \"samples\": [\n          \"2024-11-29\",\n          \"2024-10-15\",\n          \"2024-11-20\"\n        ],\n        \"semantic_type\": \"\",\n        \"description\": \"\"\n      }\n    },\n    {\n      \"column\": \"agencies\",\n      \"properties\": {\n        \"dtype\": \"object\",\n        \"semantic_type\": \"\",\n        \"description\": \"\"\n      }\n    },\n    {\n      \"column\": \"excerpts\",\n      \"properties\": {\n        \"dtype\": \"string\",\n        \"num_unique_values\": 5144,\n        \"samples\": [\n          \"This notice announces the transfer of amounts for certain dairy articles from the historical license category (Appendix 1) to the lottery (nonhistorical) license category (Appendix 2) pursuant to the Dairy Tariff-Rate Quota Import Licensing regulations...\",\n          \"DoD is proposing to amend the Defense Federal Acquisition Regulation Supplement (DFARS) to implement a recommendation of the Government Accountability Office regarding DoD-funded fundamental research.\",\n          \"In accordance with the Paperwork Reduction Act of 1995, FAA invites public comments about our intention to request Office of Management and Budget (OMB) approval to renew an information collection. The collection involves the submission of FAA Form...\"\n        ],\n        \"semantic_type\": \"\",\n        \"description\": \"\"\n      }\n    }\n  ]\n}"
            }
          },
          "metadata": {},
          "execution_count": 4
        }
      ]
    },
    {
      "cell_type": "markdown",
      "source": [
        "#Exploratory Data Analysis"
      ],
      "metadata": {
        "id": "SwZ70B92EUyb"
      }
    },
    {
      "cell_type": "markdown",
      "source": [
        "1) Number of documents\n",
        "\n",
        "2) Number of documents per category\n",
        "\n",
        "3) Number of categories per document\n",
        "\n",
        "4) Average word length\n",
        "\n",
        "5) Average word length per document\n",
        "\n",
        "6) Agency collaboration"
      ],
      "metadata": {
        "id": "kExHs1grEiUr"
      }
    },
    {
      "cell_type": "code",
      "source": [
        "# 1. number of documents\n",
        "data = json.loads(Path('federal_register.json').read_text(encoding=\"utf-8\"))\n",
        "docs_count = {doc[\"document_number\"] for doc in data if \"document_number\" in doc}\n",
        "\n",
        "print(f'Total number of documents in the dataset : {len(docs_count)}')"
      ],
      "metadata": {
        "colab": {
          "base_uri": "https://localhost:8080/"
        },
        "id": "xYi7vSaFEtaP",
        "outputId": "a4c12ba0-be38-41f6-c155-725c3b7f258a"
      },
      "execution_count": 5,
      "outputs": [
        {
          "output_type": "stream",
          "name": "stdout",
          "text": [
            "Total number of documents in the dataset : 10000\n"
          ]
        }
      ]
    },
    {
      "cell_type": "code",
      "source": [
        "# 2. number of documents per category/agency\n",
        "\n",
        "df = pd.read_json('federal_register.json')\n",
        "#dropped rows which doesn't have abstract\n",
        "df = df[~pd.isna(df['abstract'])]\n",
        "#dropping rows which doesnot have name(agency_name) in agencies column\n",
        "df = df[df['agencies'].apply(lambda x: all('name' in agency for agency in x))]\n",
        "#creating new column 'agency_names' to store agency names separately\n",
        "df.loc[:, 'agency_names'] = df['agencies'].apply(lambda x: [agency['name'] for agency in x])\n",
        "\n",
        "new_df = df.explode('agency_names')\n",
        "agencies_count = new_df['agency_names'].value_counts()\n",
        "agencies_count_df = pd.DataFrame({\n",
        "    'agency_name': agencies_count.index,\n",
        "    'docs_count': agencies_count.values\n",
        "})\n",
        "\n",
        "#top 10 agencies with most doc count\n",
        "agencies_count_df[:10]"
      ],
      "metadata": {
        "colab": {
          "base_uri": "https://localhost:8080/",
          "height": 363
        },
        "id": "kg55rqzQFGjD",
        "outputId": "f5698220-2698-41e3-b92c-b1a6de0bdd52"
      },
      "execution_count": 6,
      "outputs": [
        {
          "output_type": "execute_result",
          "data": {
            "text/plain": [
              "                                       agency_name  docs_count\n",
              "0                              Commerce Department         808\n",
              "1                                   Postal Service         799\n",
              "2                        Transportation Department         704\n",
              "3             Health and Human Services Department         623\n",
              "4                              Interior Department         531\n",
              "5                     Homeland Security Department         521\n",
              "6                  Federal Aviation Administration         395\n",
              "7                  Environmental Protection Agency         383\n",
              "8  National Oceanic and Atmospheric Administration         371\n",
              "9               International Trade Administration         326"
            ],
            "text/html": [
              "\n",
              "  <div id=\"df-998ccdb8-803d-46cf-9ea3-6051e98b8275\" class=\"colab-df-container\">\n",
              "    <div>\n",
              "<style scoped>\n",
              "    .dataframe tbody tr th:only-of-type {\n",
              "        vertical-align: middle;\n",
              "    }\n",
              "\n",
              "    .dataframe tbody tr th {\n",
              "        vertical-align: top;\n",
              "    }\n",
              "\n",
              "    .dataframe thead th {\n",
              "        text-align: right;\n",
              "    }\n",
              "</style>\n",
              "<table border=\"1\" class=\"dataframe\">\n",
              "  <thead>\n",
              "    <tr style=\"text-align: right;\">\n",
              "      <th></th>\n",
              "      <th>agency_name</th>\n",
              "      <th>docs_count</th>\n",
              "    </tr>\n",
              "  </thead>\n",
              "  <tbody>\n",
              "    <tr>\n",
              "      <th>0</th>\n",
              "      <td>Commerce Department</td>\n",
              "      <td>808</td>\n",
              "    </tr>\n",
              "    <tr>\n",
              "      <th>1</th>\n",
              "      <td>Postal Service</td>\n",
              "      <td>799</td>\n",
              "    </tr>\n",
              "    <tr>\n",
              "      <th>2</th>\n",
              "      <td>Transportation Department</td>\n",
              "      <td>704</td>\n",
              "    </tr>\n",
              "    <tr>\n",
              "      <th>3</th>\n",
              "      <td>Health and Human Services Department</td>\n",
              "      <td>623</td>\n",
              "    </tr>\n",
              "    <tr>\n",
              "      <th>4</th>\n",
              "      <td>Interior Department</td>\n",
              "      <td>531</td>\n",
              "    </tr>\n",
              "    <tr>\n",
              "      <th>5</th>\n",
              "      <td>Homeland Security Department</td>\n",
              "      <td>521</td>\n",
              "    </tr>\n",
              "    <tr>\n",
              "      <th>6</th>\n",
              "      <td>Federal Aviation Administration</td>\n",
              "      <td>395</td>\n",
              "    </tr>\n",
              "    <tr>\n",
              "      <th>7</th>\n",
              "      <td>Environmental Protection Agency</td>\n",
              "      <td>383</td>\n",
              "    </tr>\n",
              "    <tr>\n",
              "      <th>8</th>\n",
              "      <td>National Oceanic and Atmospheric Administration</td>\n",
              "      <td>371</td>\n",
              "    </tr>\n",
              "    <tr>\n",
              "      <th>9</th>\n",
              "      <td>International Trade Administration</td>\n",
              "      <td>326</td>\n",
              "    </tr>\n",
              "  </tbody>\n",
              "</table>\n",
              "</div>\n",
              "    <div class=\"colab-df-buttons\">\n",
              "\n",
              "  <div class=\"colab-df-container\">\n",
              "    <button class=\"colab-df-convert\" onclick=\"convertToInteractive('df-998ccdb8-803d-46cf-9ea3-6051e98b8275')\"\n",
              "            title=\"Convert this dataframe to an interactive table.\"\n",
              "            style=\"display:none;\">\n",
              "\n",
              "  <svg xmlns=\"http://www.w3.org/2000/svg\" height=\"24px\" viewBox=\"0 -960 960 960\">\n",
              "    <path d=\"M120-120v-720h720v720H120Zm60-500h600v-160H180v160Zm220 220h160v-160H400v160Zm0 220h160v-160H400v160ZM180-400h160v-160H180v160Zm440 0h160v-160H620v160ZM180-180h160v-160H180v160Zm440 0h160v-160H620v160Z\"/>\n",
              "  </svg>\n",
              "    </button>\n",
              "\n",
              "  <style>\n",
              "    .colab-df-container {\n",
              "      display:flex;\n",
              "      gap: 12px;\n",
              "    }\n",
              "\n",
              "    .colab-df-convert {\n",
              "      background-color: #E8F0FE;\n",
              "      border: none;\n",
              "      border-radius: 50%;\n",
              "      cursor: pointer;\n",
              "      display: none;\n",
              "      fill: #1967D2;\n",
              "      height: 32px;\n",
              "      padding: 0 0 0 0;\n",
              "      width: 32px;\n",
              "    }\n",
              "\n",
              "    .colab-df-convert:hover {\n",
              "      background-color: #E2EBFA;\n",
              "      box-shadow: 0px 1px 2px rgba(60, 64, 67, 0.3), 0px 1px 3px 1px rgba(60, 64, 67, 0.15);\n",
              "      fill: #174EA6;\n",
              "    }\n",
              "\n",
              "    .colab-df-buttons div {\n",
              "      margin-bottom: 4px;\n",
              "    }\n",
              "\n",
              "    [theme=dark] .colab-df-convert {\n",
              "      background-color: #3B4455;\n",
              "      fill: #D2E3FC;\n",
              "    }\n",
              "\n",
              "    [theme=dark] .colab-df-convert:hover {\n",
              "      background-color: #434B5C;\n",
              "      box-shadow: 0px 1px 3px 1px rgba(0, 0, 0, 0.15);\n",
              "      filter: drop-shadow(0px 1px 2px rgba(0, 0, 0, 0.3));\n",
              "      fill: #FFFFFF;\n",
              "    }\n",
              "  </style>\n",
              "\n",
              "    <script>\n",
              "      const buttonEl =\n",
              "        document.querySelector('#df-998ccdb8-803d-46cf-9ea3-6051e98b8275 button.colab-df-convert');\n",
              "      buttonEl.style.display =\n",
              "        google.colab.kernel.accessAllowed ? 'block' : 'none';\n",
              "\n",
              "      async function convertToInteractive(key) {\n",
              "        const element = document.querySelector('#df-998ccdb8-803d-46cf-9ea3-6051e98b8275');\n",
              "        const dataTable =\n",
              "          await google.colab.kernel.invokeFunction('convertToInteractive',\n",
              "                                                    [key], {});\n",
              "        if (!dataTable) return;\n",
              "\n",
              "        const docLinkHtml = 'Like what you see? Visit the ' +\n",
              "          '<a target=\"_blank\" href=https://colab.research.google.com/notebooks/data_table.ipynb>data table notebook</a>'\n",
              "          + ' to learn more about interactive tables.';\n",
              "        element.innerHTML = '';\n",
              "        dataTable['output_type'] = 'display_data';\n",
              "        await google.colab.output.renderOutput(dataTable, element);\n",
              "        const docLink = document.createElement('div');\n",
              "        docLink.innerHTML = docLinkHtml;\n",
              "        element.appendChild(docLink);\n",
              "      }\n",
              "    </script>\n",
              "  </div>\n",
              "\n",
              "\n",
              "<div id=\"df-278923d3-48d7-462b-a388-dbc1a8c93834\">\n",
              "  <button class=\"colab-df-quickchart\" onclick=\"quickchart('df-278923d3-48d7-462b-a388-dbc1a8c93834')\"\n",
              "            title=\"Suggest charts\"\n",
              "            style=\"display:none;\">\n",
              "\n",
              "<svg xmlns=\"http://www.w3.org/2000/svg\" height=\"24px\"viewBox=\"0 0 24 24\"\n",
              "     width=\"24px\">\n",
              "    <g>\n",
              "        <path d=\"M19 3H5c-1.1 0-2 .9-2 2v14c0 1.1.9 2 2 2h14c1.1 0 2-.9 2-2V5c0-1.1-.9-2-2-2zM9 17H7v-7h2v7zm4 0h-2V7h2v10zm4 0h-2v-4h2v4z\"/>\n",
              "    </g>\n",
              "</svg>\n",
              "  </button>\n",
              "\n",
              "<style>\n",
              "  .colab-df-quickchart {\n",
              "      --bg-color: #E8F0FE;\n",
              "      --fill-color: #1967D2;\n",
              "      --hover-bg-color: #E2EBFA;\n",
              "      --hover-fill-color: #174EA6;\n",
              "      --disabled-fill-color: #AAA;\n",
              "      --disabled-bg-color: #DDD;\n",
              "  }\n",
              "\n",
              "  [theme=dark] .colab-df-quickchart {\n",
              "      --bg-color: #3B4455;\n",
              "      --fill-color: #D2E3FC;\n",
              "      --hover-bg-color: #434B5C;\n",
              "      --hover-fill-color: #FFFFFF;\n",
              "      --disabled-bg-color: #3B4455;\n",
              "      --disabled-fill-color: #666;\n",
              "  }\n",
              "\n",
              "  .colab-df-quickchart {\n",
              "    background-color: var(--bg-color);\n",
              "    border: none;\n",
              "    border-radius: 50%;\n",
              "    cursor: pointer;\n",
              "    display: none;\n",
              "    fill: var(--fill-color);\n",
              "    height: 32px;\n",
              "    padding: 0;\n",
              "    width: 32px;\n",
              "  }\n",
              "\n",
              "  .colab-df-quickchart:hover {\n",
              "    background-color: var(--hover-bg-color);\n",
              "    box-shadow: 0 1px 2px rgba(60, 64, 67, 0.3), 0 1px 3px 1px rgba(60, 64, 67, 0.15);\n",
              "    fill: var(--button-hover-fill-color);\n",
              "  }\n",
              "\n",
              "  .colab-df-quickchart-complete:disabled,\n",
              "  .colab-df-quickchart-complete:disabled:hover {\n",
              "    background-color: var(--disabled-bg-color);\n",
              "    fill: var(--disabled-fill-color);\n",
              "    box-shadow: none;\n",
              "  }\n",
              "\n",
              "  .colab-df-spinner {\n",
              "    border: 2px solid var(--fill-color);\n",
              "    border-color: transparent;\n",
              "    border-bottom-color: var(--fill-color);\n",
              "    animation:\n",
              "      spin 1s steps(1) infinite;\n",
              "  }\n",
              "\n",
              "  @keyframes spin {\n",
              "    0% {\n",
              "      border-color: transparent;\n",
              "      border-bottom-color: var(--fill-color);\n",
              "      border-left-color: var(--fill-color);\n",
              "    }\n",
              "    20% {\n",
              "      border-color: transparent;\n",
              "      border-left-color: var(--fill-color);\n",
              "      border-top-color: var(--fill-color);\n",
              "    }\n",
              "    30% {\n",
              "      border-color: transparent;\n",
              "      border-left-color: var(--fill-color);\n",
              "      border-top-color: var(--fill-color);\n",
              "      border-right-color: var(--fill-color);\n",
              "    }\n",
              "    40% {\n",
              "      border-color: transparent;\n",
              "      border-right-color: var(--fill-color);\n",
              "      border-top-color: var(--fill-color);\n",
              "    }\n",
              "    60% {\n",
              "      border-color: transparent;\n",
              "      border-right-color: var(--fill-color);\n",
              "    }\n",
              "    80% {\n",
              "      border-color: transparent;\n",
              "      border-right-color: var(--fill-color);\n",
              "      border-bottom-color: var(--fill-color);\n",
              "    }\n",
              "    90% {\n",
              "      border-color: transparent;\n",
              "      border-bottom-color: var(--fill-color);\n",
              "    }\n",
              "  }\n",
              "</style>\n",
              "\n",
              "  <script>\n",
              "    async function quickchart(key) {\n",
              "      const quickchartButtonEl =\n",
              "        document.querySelector('#' + key + ' button');\n",
              "      quickchartButtonEl.disabled = true;  // To prevent multiple clicks.\n",
              "      quickchartButtonEl.classList.add('colab-df-spinner');\n",
              "      try {\n",
              "        const charts = await google.colab.kernel.invokeFunction(\n",
              "            'suggestCharts', [key], {});\n",
              "      } catch (error) {\n",
              "        console.error('Error during call to suggestCharts:', error);\n",
              "      }\n",
              "      quickchartButtonEl.classList.remove('colab-df-spinner');\n",
              "      quickchartButtonEl.classList.add('colab-df-quickchart-complete');\n",
              "    }\n",
              "    (() => {\n",
              "      let quickchartButtonEl =\n",
              "        document.querySelector('#df-278923d3-48d7-462b-a388-dbc1a8c93834 button');\n",
              "      quickchartButtonEl.style.display =\n",
              "        google.colab.kernel.accessAllowed ? 'block' : 'none';\n",
              "    })();\n",
              "  </script>\n",
              "</div>\n",
              "\n",
              "    </div>\n",
              "  </div>\n"
            ],
            "application/vnd.google.colaboratory.intrinsic+json": {
              "type": "dataframe",
              "summary": "{\n  \"name\": \"agencies_count_df[:10]\",\n  \"rows\": 10,\n  \"fields\": [\n    {\n      \"column\": \"agency_name\",\n      \"properties\": {\n        \"dtype\": \"string\",\n        \"num_unique_values\": 10,\n        \"samples\": [\n          \"National Oceanic and Atmospheric Administration\",\n          \"Postal Service\",\n          \"Homeland Security Department\"\n        ],\n        \"semantic_type\": \"\",\n        \"description\": \"\"\n      }\n    },\n    {\n      \"column\": \"docs_count\",\n      \"properties\": {\n        \"dtype\": \"number\",\n        \"std\": 180,\n        \"min\": 326,\n        \"max\": 808,\n        \"num_unique_values\": 10,\n        \"samples\": [\n          371,\n          799,\n          521\n        ],\n        \"semantic_type\": \"\",\n        \"description\": \"\"\n      }\n    }\n  ]\n}"
            }
          },
          "metadata": {},
          "execution_count": 6
        }
      ]
    },
    {
      "cell_type": "code",
      "source": [
        "# 3. number of agencies per document\n",
        "\n",
        "num_agencies_per_doc = df['agency_names'].apply(len)\n",
        "doc_agency_count_df = pd.DataFrame({\n",
        "    'document_number': df['document_number'],\n",
        "    'num_agencies': num_agencies_per_doc\n",
        "})\n",
        "\n",
        "#Finding document with max agencies and printing it's tilte, doc_num and agencies\n",
        "max_agencies_row = doc_agency_count_df[doc_agency_count_df['num_agencies'] == doc_agency_count_df['num_agencies'].max()]\n",
        "document_number = max_agencies_row['document_number'].iloc[0]\n",
        "agencies = df[df['document_number'] == document_number]['agency_names'].iloc[0]\n",
        "title = df[df['document_number'] == document_number]['title'].iloc[0]\n",
        "print(\"----------Document with max agencies---------------\")\n",
        "print(f\"Document Number: {document_number}\")\n",
        "print(f\"Title: {title}\")\n",
        "print(f\"Agencies count: {doc_agency_count_df['num_agencies'].max()}\")\n",
        "print(f\"Agencies: {agencies}\")"
      ],
      "metadata": {
        "colab": {
          "base_uri": "https://localhost:8080/"
        },
        "id": "IPsUhjHpFh2b",
        "outputId": "319da160-aed9-4194-bce1-b492f634e359"
      },
      "execution_count": 7,
      "outputs": [
        {
          "output_type": "stream",
          "name": "stdout",
          "text": [
            "----------Document with max agencies---------------\n",
            "Document Number: 2024-18415\n",
            "Title: Financial Data Transparency Act Joint Data Standards\n",
            "Agencies count: 9\n",
            "Agencies: ['Treasury Department', 'Comptroller of the Currency', 'Federal Reserve System', 'Federal Deposit Insurance Corporation', 'National Credit Union Administration', 'Consumer Financial Protection Bureau', 'Federal Housing Finance Agency', 'Commodity Futures Trading Commission', 'Securities and Exchange Commission']\n"
          ]
        }
      ]
    },
    {
      "cell_type": "code",
      "source": [
        "# 4. average word length in abstract\n",
        "\n",
        "all_abstract = df['abstract'].str.cat(sep=' ')\n",
        "\n",
        "#function to count length of each word\n",
        "def letterCounter(text):\n",
        "    words = text.split()\n",
        "    return [len(word) for word in words]\n",
        "\n",
        "word_length_counter = letterCounter(all_abstract)\n",
        "print(f'Average word length in abstract field across whole dataset : {np.mean(word_length_counter)}')"
      ],
      "metadata": {
        "colab": {
          "base_uri": "https://localhost:8080/"
        },
        "id": "xkvFPSsiG13U",
        "outputId": "0f076195-ba26-4e46-be03-ee6ed5131b7c"
      },
      "execution_count": 8,
      "outputs": [
        {
          "output_type": "stream",
          "name": "stdout",
          "text": [
            "Average word length in abstract field across whole dataset : 5.716986136370888\n"
          ]
        }
      ]
    },
    {
      "cell_type": "code",
      "source": [
        "# 5. average word length per document\n",
        "\n",
        "abstract_text_df = df[['document_number', 'abstract']].copy()\n",
        "abstract_text_df['word_length_list'] = abstract_text_df['abstract'].apply(letterCounter)\n",
        "abstract_text_df['avg_word_length'] = abstract_text_df['word_length_list'].apply(np.mean)\n",
        "abstract_text_df.sort_values(by='avg_word_length', ascending=False)"
      ],
      "metadata": {
        "colab": {
          "base_uri": "https://localhost:8080/",
          "height": 423
        },
        "id": "2fW9BJ0IHBD4",
        "outputId": "a963ee4e-8bd9-4469-deec-1d657b92e46a"
      },
      "execution_count": 9,
      "outputs": [
        {
          "output_type": "execute_result",
          "data": {
            "text/plain": [
              "     document_number                                           abstract  \\\n",
              "3858      2024-24537  The Commission will consider a restricted adju...   \n",
              "3441      2024-24947  This notice announces the availability of the ...   \n",
              "7314      2024-20970  The National Toxicology Program (NTP) Interage...   \n",
              "2521      2024-26051  The Natural Resources Conservation Service (NR...   \n",
              "5264      2024-23138  The Environmental Protection Agency (EPA) is p...   \n",
              "...              ...                                                ...   \n",
              "7068      2024-21270  The Board updates for 2024 the fees that the p...   \n",
              "893       2024-27567  Notice is given of the names of members of the...   \n",
              "9573      2024-18727  This notice publishes the 2024 List of Explosi...   \n",
              "1011      2024-27459  Notice is given of the names of members of a P...   \n",
              "8855      2024-19430  Closed meeting of the Art Advisory Panel will ...   \n",
              "\n",
              "                                       word_length_list  avg_word_length  \n",
              "3858        [3, 10, 4, 8, 1, 10, 12, 6, 4, 3, 5, 7, 72]        11.153846  \n",
              "3441  [4, 6, 9, 3, 12, 2, 3, 5, 4, 5, 3, 12, 6, 4, 7...         7.360000  \n",
              "7314  [3, 8, 10, 7, 5, 11, 6, 3, 3, 10, 2, 11, 13, 7...         7.333333  \n",
              "2521  [3, 7, 9, 12, 7, 6, 8, 6, 5, 3, 3, 11, 2, 3, 1...         7.329412  \n",
              "5264  [3, 13, 10, 6, 5, 2, 9, 6, 2, 6, 7, 10, 5, 2, ...         7.232558  \n",
              "...                                                 ...              ...  \n",
              "7068  [3, 5, 7, 3, 4, 3, 4, 4, 3, 6, 4, 3, 2, 4, 7, ...         4.452381  \n",
              "893   [6, 2, 5, 2, 3, 5, 2, 7, 2, 3, 4, 11, 6, 5, 3,...         4.428571  \n",
              "9573  [4, 6, 9, 3, 4, 4, 2, 9, 10, 2, 8, 2, 4, 3, 4,...         4.423077  \n",
              "1011  [6, 2, 5, 2, 3, 5, 2, 7, 2, 1, 11, 6, 5, 3, 3,...         4.368421  \n",
              "8855  [6, 7, 2, 3, 3, 8, 5, 4, 2, 4, 2, 3, 5, 3, 3, ...         4.300000  \n",
              "\n",
              "[7158 rows x 4 columns]"
            ],
            "text/html": [
              "\n",
              "  <div id=\"df-bf870bb4-aea8-47ce-9e31-e08560b9ff5c\" class=\"colab-df-container\">\n",
              "    <div>\n",
              "<style scoped>\n",
              "    .dataframe tbody tr th:only-of-type {\n",
              "        vertical-align: middle;\n",
              "    }\n",
              "\n",
              "    .dataframe tbody tr th {\n",
              "        vertical-align: top;\n",
              "    }\n",
              "\n",
              "    .dataframe thead th {\n",
              "        text-align: right;\n",
              "    }\n",
              "</style>\n",
              "<table border=\"1\" class=\"dataframe\">\n",
              "  <thead>\n",
              "    <tr style=\"text-align: right;\">\n",
              "      <th></th>\n",
              "      <th>document_number</th>\n",
              "      <th>abstract</th>\n",
              "      <th>word_length_list</th>\n",
              "      <th>avg_word_length</th>\n",
              "    </tr>\n",
              "  </thead>\n",
              "  <tbody>\n",
              "    <tr>\n",
              "      <th>3858</th>\n",
              "      <td>2024-24537</td>\n",
              "      <td>The Commission will consider a restricted adju...</td>\n",
              "      <td>[3, 10, 4, 8, 1, 10, 12, 6, 4, 3, 5, 7, 72]</td>\n",
              "      <td>11.153846</td>\n",
              "    </tr>\n",
              "    <tr>\n",
              "      <th>3441</th>\n",
              "      <td>2024-24947</td>\n",
              "      <td>This notice announces the availability of the ...</td>\n",
              "      <td>[4, 6, 9, 3, 12, 2, 3, 5, 4, 5, 3, 12, 6, 4, 7...</td>\n",
              "      <td>7.360000</td>\n",
              "    </tr>\n",
              "    <tr>\n",
              "      <th>7314</th>\n",
              "      <td>2024-20970</td>\n",
              "      <td>The National Toxicology Program (NTP) Interage...</td>\n",
              "      <td>[3, 8, 10, 7, 5, 11, 6, 3, 3, 10, 2, 11, 13, 7...</td>\n",
              "      <td>7.333333</td>\n",
              "    </tr>\n",
              "    <tr>\n",
              "      <th>2521</th>\n",
              "      <td>2024-26051</td>\n",
              "      <td>The Natural Resources Conservation Service (NR...</td>\n",
              "      <td>[3, 7, 9, 12, 7, 6, 8, 6, 5, 3, 3, 11, 2, 3, 1...</td>\n",
              "      <td>7.329412</td>\n",
              "    </tr>\n",
              "    <tr>\n",
              "      <th>5264</th>\n",
              "      <td>2024-23138</td>\n",
              "      <td>The Environmental Protection Agency (EPA) is p...</td>\n",
              "      <td>[3, 13, 10, 6, 5, 2, 9, 6, 2, 6, 7, 10, 5, 2, ...</td>\n",
              "      <td>7.232558</td>\n",
              "    </tr>\n",
              "    <tr>\n",
              "      <th>...</th>\n",
              "      <td>...</td>\n",
              "      <td>...</td>\n",
              "      <td>...</td>\n",
              "      <td>...</td>\n",
              "    </tr>\n",
              "    <tr>\n",
              "      <th>7068</th>\n",
              "      <td>2024-21270</td>\n",
              "      <td>The Board updates for 2024 the fees that the p...</td>\n",
              "      <td>[3, 5, 7, 3, 4, 3, 4, 4, 3, 6, 4, 3, 2, 4, 7, ...</td>\n",
              "      <td>4.452381</td>\n",
              "    </tr>\n",
              "    <tr>\n",
              "      <th>893</th>\n",
              "      <td>2024-27567</td>\n",
              "      <td>Notice is given of the names of members of the...</td>\n",
              "      <td>[6, 2, 5, 2, 3, 5, 2, 7, 2, 3, 4, 11, 6, 5, 3,...</td>\n",
              "      <td>4.428571</td>\n",
              "    </tr>\n",
              "    <tr>\n",
              "      <th>9573</th>\n",
              "      <td>2024-18727</td>\n",
              "      <td>This notice publishes the 2024 List of Explosi...</td>\n",
              "      <td>[4, 6, 9, 3, 4, 4, 2, 9, 10, 2, 8, 2, 4, 3, 4,...</td>\n",
              "      <td>4.423077</td>\n",
              "    </tr>\n",
              "    <tr>\n",
              "      <th>1011</th>\n",
              "      <td>2024-27459</td>\n",
              "      <td>Notice is given of the names of members of a P...</td>\n",
              "      <td>[6, 2, 5, 2, 3, 5, 2, 7, 2, 1, 11, 6, 5, 3, 3,...</td>\n",
              "      <td>4.368421</td>\n",
              "    </tr>\n",
              "    <tr>\n",
              "      <th>8855</th>\n",
              "      <td>2024-19430</td>\n",
              "      <td>Closed meeting of the Art Advisory Panel will ...</td>\n",
              "      <td>[6, 7, 2, 3, 3, 8, 5, 4, 2, 4, 2, 3, 5, 3, 3, ...</td>\n",
              "      <td>4.300000</td>\n",
              "    </tr>\n",
              "  </tbody>\n",
              "</table>\n",
              "<p>7158 rows × 4 columns</p>\n",
              "</div>\n",
              "    <div class=\"colab-df-buttons\">\n",
              "\n",
              "  <div class=\"colab-df-container\">\n",
              "    <button class=\"colab-df-convert\" onclick=\"convertToInteractive('df-bf870bb4-aea8-47ce-9e31-e08560b9ff5c')\"\n",
              "            title=\"Convert this dataframe to an interactive table.\"\n",
              "            style=\"display:none;\">\n",
              "\n",
              "  <svg xmlns=\"http://www.w3.org/2000/svg\" height=\"24px\" viewBox=\"0 -960 960 960\">\n",
              "    <path d=\"M120-120v-720h720v720H120Zm60-500h600v-160H180v160Zm220 220h160v-160H400v160Zm0 220h160v-160H400v160ZM180-400h160v-160H180v160Zm440 0h160v-160H620v160ZM180-180h160v-160H180v160Zm440 0h160v-160H620v160Z\"/>\n",
              "  </svg>\n",
              "    </button>\n",
              "\n",
              "  <style>\n",
              "    .colab-df-container {\n",
              "      display:flex;\n",
              "      gap: 12px;\n",
              "    }\n",
              "\n",
              "    .colab-df-convert {\n",
              "      background-color: #E8F0FE;\n",
              "      border: none;\n",
              "      border-radius: 50%;\n",
              "      cursor: pointer;\n",
              "      display: none;\n",
              "      fill: #1967D2;\n",
              "      height: 32px;\n",
              "      padding: 0 0 0 0;\n",
              "      width: 32px;\n",
              "    }\n",
              "\n",
              "    .colab-df-convert:hover {\n",
              "      background-color: #E2EBFA;\n",
              "      box-shadow: 0px 1px 2px rgba(60, 64, 67, 0.3), 0px 1px 3px 1px rgba(60, 64, 67, 0.15);\n",
              "      fill: #174EA6;\n",
              "    }\n",
              "\n",
              "    .colab-df-buttons div {\n",
              "      margin-bottom: 4px;\n",
              "    }\n",
              "\n",
              "    [theme=dark] .colab-df-convert {\n",
              "      background-color: #3B4455;\n",
              "      fill: #D2E3FC;\n",
              "    }\n",
              "\n",
              "    [theme=dark] .colab-df-convert:hover {\n",
              "      background-color: #434B5C;\n",
              "      box-shadow: 0px 1px 3px 1px rgba(0, 0, 0, 0.15);\n",
              "      filter: drop-shadow(0px 1px 2px rgba(0, 0, 0, 0.3));\n",
              "      fill: #FFFFFF;\n",
              "    }\n",
              "  </style>\n",
              "\n",
              "    <script>\n",
              "      const buttonEl =\n",
              "        document.querySelector('#df-bf870bb4-aea8-47ce-9e31-e08560b9ff5c button.colab-df-convert');\n",
              "      buttonEl.style.display =\n",
              "        google.colab.kernel.accessAllowed ? 'block' : 'none';\n",
              "\n",
              "      async function convertToInteractive(key) {\n",
              "        const element = document.querySelector('#df-bf870bb4-aea8-47ce-9e31-e08560b9ff5c');\n",
              "        const dataTable =\n",
              "          await google.colab.kernel.invokeFunction('convertToInteractive',\n",
              "                                                    [key], {});\n",
              "        if (!dataTable) return;\n",
              "\n",
              "        const docLinkHtml = 'Like what you see? Visit the ' +\n",
              "          '<a target=\"_blank\" href=https://colab.research.google.com/notebooks/data_table.ipynb>data table notebook</a>'\n",
              "          + ' to learn more about interactive tables.';\n",
              "        element.innerHTML = '';\n",
              "        dataTable['output_type'] = 'display_data';\n",
              "        await google.colab.output.renderOutput(dataTable, element);\n",
              "        const docLink = document.createElement('div');\n",
              "        docLink.innerHTML = docLinkHtml;\n",
              "        element.appendChild(docLink);\n",
              "      }\n",
              "    </script>\n",
              "  </div>\n",
              "\n",
              "\n",
              "<div id=\"df-7fb17c1d-952b-4ef4-812c-9fa43184fc19\">\n",
              "  <button class=\"colab-df-quickchart\" onclick=\"quickchart('df-7fb17c1d-952b-4ef4-812c-9fa43184fc19')\"\n",
              "            title=\"Suggest charts\"\n",
              "            style=\"display:none;\">\n",
              "\n",
              "<svg xmlns=\"http://www.w3.org/2000/svg\" height=\"24px\"viewBox=\"0 0 24 24\"\n",
              "     width=\"24px\">\n",
              "    <g>\n",
              "        <path d=\"M19 3H5c-1.1 0-2 .9-2 2v14c0 1.1.9 2 2 2h14c1.1 0 2-.9 2-2V5c0-1.1-.9-2-2-2zM9 17H7v-7h2v7zm4 0h-2V7h2v10zm4 0h-2v-4h2v4z\"/>\n",
              "    </g>\n",
              "</svg>\n",
              "  </button>\n",
              "\n",
              "<style>\n",
              "  .colab-df-quickchart {\n",
              "      --bg-color: #E8F0FE;\n",
              "      --fill-color: #1967D2;\n",
              "      --hover-bg-color: #E2EBFA;\n",
              "      --hover-fill-color: #174EA6;\n",
              "      --disabled-fill-color: #AAA;\n",
              "      --disabled-bg-color: #DDD;\n",
              "  }\n",
              "\n",
              "  [theme=dark] .colab-df-quickchart {\n",
              "      --bg-color: #3B4455;\n",
              "      --fill-color: #D2E3FC;\n",
              "      --hover-bg-color: #434B5C;\n",
              "      --hover-fill-color: #FFFFFF;\n",
              "      --disabled-bg-color: #3B4455;\n",
              "      --disabled-fill-color: #666;\n",
              "  }\n",
              "\n",
              "  .colab-df-quickchart {\n",
              "    background-color: var(--bg-color);\n",
              "    border: none;\n",
              "    border-radius: 50%;\n",
              "    cursor: pointer;\n",
              "    display: none;\n",
              "    fill: var(--fill-color);\n",
              "    height: 32px;\n",
              "    padding: 0;\n",
              "    width: 32px;\n",
              "  }\n",
              "\n",
              "  .colab-df-quickchart:hover {\n",
              "    background-color: var(--hover-bg-color);\n",
              "    box-shadow: 0 1px 2px rgba(60, 64, 67, 0.3), 0 1px 3px 1px rgba(60, 64, 67, 0.15);\n",
              "    fill: var(--button-hover-fill-color);\n",
              "  }\n",
              "\n",
              "  .colab-df-quickchart-complete:disabled,\n",
              "  .colab-df-quickchart-complete:disabled:hover {\n",
              "    background-color: var(--disabled-bg-color);\n",
              "    fill: var(--disabled-fill-color);\n",
              "    box-shadow: none;\n",
              "  }\n",
              "\n",
              "  .colab-df-spinner {\n",
              "    border: 2px solid var(--fill-color);\n",
              "    border-color: transparent;\n",
              "    border-bottom-color: var(--fill-color);\n",
              "    animation:\n",
              "      spin 1s steps(1) infinite;\n",
              "  }\n",
              "\n",
              "  @keyframes spin {\n",
              "    0% {\n",
              "      border-color: transparent;\n",
              "      border-bottom-color: var(--fill-color);\n",
              "      border-left-color: var(--fill-color);\n",
              "    }\n",
              "    20% {\n",
              "      border-color: transparent;\n",
              "      border-left-color: var(--fill-color);\n",
              "      border-top-color: var(--fill-color);\n",
              "    }\n",
              "    30% {\n",
              "      border-color: transparent;\n",
              "      border-left-color: var(--fill-color);\n",
              "      border-top-color: var(--fill-color);\n",
              "      border-right-color: var(--fill-color);\n",
              "    }\n",
              "    40% {\n",
              "      border-color: transparent;\n",
              "      border-right-color: var(--fill-color);\n",
              "      border-top-color: var(--fill-color);\n",
              "    }\n",
              "    60% {\n",
              "      border-color: transparent;\n",
              "      border-right-color: var(--fill-color);\n",
              "    }\n",
              "    80% {\n",
              "      border-color: transparent;\n",
              "      border-right-color: var(--fill-color);\n",
              "      border-bottom-color: var(--fill-color);\n",
              "    }\n",
              "    90% {\n",
              "      border-color: transparent;\n",
              "      border-bottom-color: var(--fill-color);\n",
              "    }\n",
              "  }\n",
              "</style>\n",
              "\n",
              "  <script>\n",
              "    async function quickchart(key) {\n",
              "      const quickchartButtonEl =\n",
              "        document.querySelector('#' + key + ' button');\n",
              "      quickchartButtonEl.disabled = true;  // To prevent multiple clicks.\n",
              "      quickchartButtonEl.classList.add('colab-df-spinner');\n",
              "      try {\n",
              "        const charts = await google.colab.kernel.invokeFunction(\n",
              "            'suggestCharts', [key], {});\n",
              "      } catch (error) {\n",
              "        console.error('Error during call to suggestCharts:', error);\n",
              "      }\n",
              "      quickchartButtonEl.classList.remove('colab-df-spinner');\n",
              "      quickchartButtonEl.classList.add('colab-df-quickchart-complete');\n",
              "    }\n",
              "    (() => {\n",
              "      let quickchartButtonEl =\n",
              "        document.querySelector('#df-7fb17c1d-952b-4ef4-812c-9fa43184fc19 button');\n",
              "      quickchartButtonEl.style.display =\n",
              "        google.colab.kernel.accessAllowed ? 'block' : 'none';\n",
              "    })();\n",
              "  </script>\n",
              "</div>\n",
              "\n",
              "    </div>\n",
              "  </div>\n"
            ],
            "application/vnd.google.colaboratory.intrinsic+json": {
              "type": "dataframe",
              "summary": "{\n  \"name\": \"abstract_text_df\",\n  \"rows\": 7158,\n  \"fields\": [\n    {\n      \"column\": \"document_number\",\n      \"properties\": {\n        \"dtype\": \"string\",\n        \"num_unique_values\": 7158,\n        \"samples\": [\n          \"2024-22606\",\n          \"2024-24988\",\n          \"2024-19696\"\n        ],\n        \"semantic_type\": \"\",\n        \"description\": \"\"\n      }\n    },\n    {\n      \"column\": \"abstract\",\n      \"properties\": {\n        \"dtype\": \"string\",\n        \"num_unique_values\": 5383,\n        \"samples\": [\n          \"In accordance with the Native American Graves Protection and Repatriation Act (NAGPRA), the Office of the State Archaeologist Bioarchaeology Program (OSA-BP) intends to repatriate a certain cultural item that meets the definition of a sacred object and that has a known lineal descendant.\",\n          \"DHS, in consultation with DOL, is exercising time-limited Fiscal Year (FY) 2025 authority and increasing the total number of noncitizens who may receive an H-2B nonimmigrant visa by up to 64,716 for the entirety of FY 2025. These supplemental visas will be distributed in four allocations throughout the fiscal year. This rule reserves 20,000 of these visas for nationals of Guatemala, El Salvador, Honduras, Haiti, Colombia, Ecuador, or Costa Rica. All visas will be available only to businesses that are suffering or will suffer impending irreparable harm, as attested by the employer. In addition, DHS is again providing temporary portability flexibility.\",\n          \"In accordance with the Paperwork Reduction Act of 1995, and the Office of Management and Budget (OMB) regulations, GSA invites the public to comment on a request to review and approve an extension of a previously approved information collection requirement regarding contractor qualifications and financial information.\"\n        ],\n        \"semantic_type\": \"\",\n        \"description\": \"\"\n      }\n    },\n    {\n      \"column\": \"word_length_list\",\n      \"properties\": {\n        \"dtype\": \"object\",\n        \"semantic_type\": \"\",\n        \"description\": \"\"\n      }\n    },\n    {\n      \"column\": \"avg_word_length\",\n      \"properties\": {\n        \"dtype\": \"number\",\n        \"std\": 0.36346788193534507,\n        \"min\": 4.3,\n        \"max\": 11.153846153846153,\n        \"num_unique_values\": 2980,\n        \"samples\": [\n          5.367924528301887,\n          4.87719298245614,\n          5.945945945945946\n        ],\n        \"semantic_type\": \"\",\n        \"description\": \"\"\n      }\n    }\n  ]\n}"
            }
          },
          "metadata": {},
          "execution_count": 9
        }
      ]
    },
    {
      "cell_type": "code",
      "source": [
        "#6. Agencies collaboration...which agencies frequently co-publish documents\n",
        "\n",
        "collaborative_docs = df[df['agency_names'].apply(len) > 1].copy()\n",
        "collaborative_docs['agency_pairs'] = collaborative_docs['agency_names'].apply(\n",
        "    lambda agencies: list(combinations(agencies, 2))\n",
        ")\n",
        "\n",
        "all_agency_pairs = [agency for pair in collaborative_docs['agency_pairs'] for agency in pair]\n",
        "collaboration_counts = Counter(all_agency_pairs)\n",
        "top_collaborations = collaboration_counts.most_common(10)\n",
        "print(f'Number of documents with multiple agencies: {doc_agency_count_df[doc_agency_count_df[\"num_agencies\"]>1].shape[0]}')\n",
        "print()\n",
        "print(\"Top 10 agency collaborations:\")\n",
        "for pair, count in top_collaborations:\n",
        "    print(f\"{pair}: {count} documents\")"
      ],
      "metadata": {
        "colab": {
          "base_uri": "https://localhost:8080/"
        },
        "id": "BpRW_RukHN7T",
        "outputId": "000a766c-10a3-477a-c437-30ae689b4c42"
      },
      "execution_count": 10,
      "outputs": [
        {
          "output_type": "stream",
          "name": "stdout",
          "text": [
            "Number of documents with multiple agencies: 3890\n",
            "\n",
            "Top 10 agency collaborations:\n",
            "('Transportation Department', 'Federal Aviation Administration'): 395 documents\n",
            "('Commerce Department', 'National Oceanic and Atmospheric Administration'): 371 documents\n",
            "('Commerce Department', 'International Trade Administration'): 326 documents\n",
            "('Interior Department', 'National Park Service'): 269 documents\n",
            "('Health and Human Services Department', 'Food and Drug Administration'): 222 documents\n",
            "('Homeland Security Department', 'Federal Emergency Management Agency'): 207 documents\n",
            "('Homeland Security Department', 'Coast Guard'): 172 documents\n",
            "('Treasury Department', 'Internal Revenue Service'): 125 documents\n",
            "('Health and Human Services Department', 'Centers for Medicare & Medicaid Services'): 93 documents\n",
            "('Interior Department', 'Land Management Bureau'): 93 documents\n"
          ]
        }
      ]
    },
    {
      "cell_type": "code",
      "source": [
        "data_frame = df.copy()"
      ],
      "metadata": {
        "id": "ag2GtTPvHYVw"
      },
      "execution_count": 11,
      "outputs": []
    },
    {
      "cell_type": "code",
      "source": [
        "#prepared abstract by lemmatizing it and removing the stop words.  Lower case and use the same regexp tokenizer with `r'(\\b[\\w]{2,}\\b)'`.\n",
        "lemmatizer = WordNetLemmatizer()\n",
        "stop_words_list = set(stopwords.words('english'))\n",
        "\n",
        "#function for text preparation\n",
        "def clean_text(text):\n",
        "    text = text.lower()\n",
        "    tokens = re.findall(r'(\\b[\\w]{2,}\\b)', text)\n",
        "    cleaned_text = [lemmatizer.lemmatize(word) for word in tokens if word not in stop_words_list]\n",
        "    return ' '.join(cleaned_text)\n",
        "\n",
        "data_frame.loc[:, 'abstract'] = data_frame['abstract'].apply(clean_text)"
      ],
      "metadata": {
        "id": "t61HegDdH9B-"
      },
      "execution_count": 12,
      "outputs": []
    },
    {
      "cell_type": "markdown",
      "source": [
        "#Multi-Label Classification"
      ],
      "metadata": {
        "id": "sEUy3YlWx9Tw"
      }
    },
    {
      "cell_type": "code",
      "source": [
        "#splitting data\n",
        "\n",
        "test_split = 0.2\n",
        "train_df, test_df = train_test_split(\n",
        "    data_frame,\n",
        "    test_size=test_split,\n",
        ")\n",
        "\n",
        "val_df = test_df.sample(frac=0.5)\n",
        "test_df.drop(val_df.index, inplace=True)\n",
        "\n",
        "print(f\"Number of rows in training set: {len(train_df)}\")\n",
        "print(f\"Number of rows in validation set: {len(val_df)}\")\n",
        "print(f\"Number of rows in test set: {len(test_df)}\")"
      ],
      "metadata": {
        "colab": {
          "base_uri": "https://localhost:8080/"
        },
        "id": "DliTrPbZx-yR",
        "outputId": "1628ab9d-093d-4b4b-89dc-8ea6424ce63d"
      },
      "execution_count": 55,
      "outputs": [
        {
          "output_type": "stream",
          "name": "stdout",
          "text": [
            "Number of rows in training set: 5726\n",
            "Number of rows in validation set: 716\n",
            "Number of rows in test set: 716\n"
          ]
        }
      ]
    },
    {
      "cell_type": "code",
      "source": [
        "#Multi-label binarization.....Now we preprocess our labels using the StringLookup layer.\n",
        "\n",
        "terms = tf.ragged.constant(train_df[\"agency_names\"].values)\n",
        "lookup = tf.keras.layers.StringLookup(output_mode=\"multi_hot\")\n",
        "lookup.adapt(terms)\n",
        "vocab = lookup.get_vocabulary()\n",
        "\n",
        "def invert_multi_hot(encoded_labels):\n",
        "    hot_indices = np.argwhere(encoded_labels == 1.0)[..., 0]\n",
        "    return np.take(vocab, hot_indices)\n",
        "\n",
        "print(\"Vocabulary:\\n\")\n",
        "print(vocab)"
      ],
      "metadata": {
        "colab": {
          "base_uri": "https://localhost:8080/"
        },
        "id": "GETIxgsMylN9",
        "outputId": "6f343ac4-3d34-4f02-c43a-c62c93332e65"
      },
      "execution_count": 56,
      "outputs": [
        {
          "output_type": "stream",
          "name": "stdout",
          "text": [
            "Vocabulary:\n",
            "\n",
            "['[UNK]', 'Commerce Department', 'Postal Service', 'Transportation Department', 'Health and Human Services Department', 'Interior Department', 'Homeland Security Department', 'Federal Aviation Administration', 'Environmental Protection Agency', 'National Oceanic and Atmospheric Administration', 'International Trade Administration', 'Treasury Department', 'National Park Service', 'Food and Drug Administration', 'Small Business Administration', 'Agriculture Department', 'Labor Department', 'Federal Emergency Management Agency', 'Coast Guard', 'Justice Department', 'Energy Department', 'Federal Communications Commission', 'Internal Revenue Service', 'International Trade Commission', 'Veterans Affairs Department', 'Education Department', 'Land Management Bureau', 'Postal Regulatory Commission', 'Centers for Medicare & Medicaid Services', 'Defense Department', 'State Department', 'Nuclear Regulatory Commission', 'Foreign Assets Control Office', 'Centers for Disease Control and Prevention', 'Federal Motor Carrier Safety Administration', 'Housing and Urban Development Department', 'General Services Administration', 'Fish and Wildlife Service', 'Mine Safety and Health Administration', 'Forest Service', 'Occupational Safety and Health Administration', 'National Aeronautics and Space Administration', 'Civil Rights Commission', 'Maritime Administration', 'Indian Affairs Bureau', 'Health Resources and Services Administration', 'Drug Enforcement Administration', 'U.S. Customs and Border Protection', 'National Highway Traffic Safety Administration', 'Federal Highway Administration', 'Children and Families Administration', 'National Science Foundation', 'Committee for Purchase From People Who Are Blind or Severely Disabled', 'Transportation Security Administration', 'National Institutes of Health', 'Industry and Security Bureau', 'Federal Reserve System', 'Federal Deposit Insurance Corporation', 'Federal Transit Administration', 'Export-Import Bank', 'Federal Trade Commission', 'Federal Railroad Administration', 'Pipeline and Hazardous Materials Safety Administration', 'Agricultural Marketing Service', 'Federal Energy Regulatory Commission', 'Animal and Plant Health Inspection Service', 'Consumer Financial Protection Bureau', 'National Institute of Standards and Technology', 'Defense Acquisition Regulations System', 'Personnel Management Office', 'National Foundation on the Arts and the Humanities', 'Consumer Product Safety Commission', 'U.S. Citizenship and Immigration Services', 'Comptroller of the Currency', 'Commodity Futures Trading Commission', 'Surface Transportation Board', 'Patent and Trademark Office', 'National Archives and Records Administration', 'Food and Nutrition Service', 'Agency for International Development', 'Surface Mining Reclamation and Enforcement Office', 'Substance Abuse and Mental Health Services Administration', 'Rural Utilities Service', 'Ocean Energy Management Bureau', 'Management and Budget Office', 'Air Force Department', 'Trade Representative, Office of United States', 'National Credit Union Administration', 'Susquehanna River Basin Commission', 'Securities and Exchange Commission', 'Rural Housing Service', 'Navy Department', 'Geological Survey', 'Census Bureau', 'Agency for Healthcare Research and Quality', 'Social Security Administration', 'Rural Business-Cooperative Service', 'Alcohol and Tobacco Tax and Trade Bureau', 'Pension Benefit Guaranty Corporation', 'Natural Resources Conservation Service', 'Food Safety and Inspection Service', 'Federal Housing Finance Agency', 'Community Living Administration', 'Army Department', 'Library of Congress', 'Financial Crimes Enforcement Network', 'Equal Employment Opportunity Commission', 'Employment and Training Administration', 'Economic Development Administration', 'Corporation for National and Community Service', 'Bureau of the Fiscal Service', 'Safety and Environmental Enforcement Bureau', 'National Endowment for the Arts', 'Millennium Challenge Corporation', 'Institute of Museum and Library Services', 'Federal Mediation and Conciliation Service', 'Federal Election Commission', 'Employee Benefits Security Administration', 'Western Area Power Administration', 'National Telecommunications and Information Administration', 'National Agricultural Statistics Service', 'Farm Service Agency', \"Workers' Compensation Programs Office\", 'Wage and Hour Division', 'Tennessee Valley Authority', 'Southwestern Power Administration', 'Reclamation Bureau', 'Peace Corps', 'National Endowment for the Humanities', 'Federal Maritime Commission', 'Engineers Corps', 'Copyright Royalty Board', 'Transportation Statistics Bureau', 'Strategic Preparedness and Response Administration', 'Railroad Retirement Board', 'Natural Resources Revenue Office', 'Legal Services Corporation', 'International Development Finance Corporation', 'Inter-American Foundation', 'Gulf Coast Ecosystem Restoration Council', 'Government Ethics Office', 'Federal Retirement Thrift Investment Board', 'Federal Bureau of Investigation', 'Federal Accounting Standards Advisory Board', 'Copyright Office, Library of Congress', 'Bonneville Power Administration', 'Agency for Toxic Substances and Disease Registry', 'United States African Development Foundation', 'U.S. Immigration and Customs Enforcement', 'Selective Service System', 'National Technical Information Service', 'National Nuclear Security Administration', 'Merit Systems Protection Board', 'Labor Statistics Bureau', 'Justice Programs Office', 'Joint Board for Enrollment of Actuaries', 'Investment Security Office', 'Federal Financial Institutions Examination Council', 'Federal Crop Insurance Corporation', 'Farm Credit Administration', 'Energy Information Administration', 'Election Assistance Commission', 'Economic Analysis Bureau', 'Commodity Credit Corporation', 'Committee for the Implementation of Textile Agreements', 'Civil Rights Cold Case Records Review Board', 'Administrative Conference of the United States', 'Veterans Employment and Training Service', 'United States Mint', 'United States Institute of Peace', 'United States Agency for Global Media', 'Under-Secretary for Economic Affairs', 'U.S. Committee on the Marine Transportation System', 'U.S. Codex Office', 'State Justice Institute', 'Office of Government Information Services', 'National Transportation Safety Board', 'National Labor Relations Board', 'National Institute of Justice', 'National Institute of Food and Agriculture', 'Morris K. Udall and Stewart L. Udall Foundation', 'Minority Business Development Agency', 'Judicial Conference of the United States', 'Indian Health Service', 'Great Lakes St. Lawrence Seaway Development Corporation', 'Government Publishing Office', 'Foreign-Trade Zones Board', 'Foreign Agricultural Service', 'Fiscal Service', 'First Responder Network Authority', 'Federal Contract Compliance Programs Office', 'Farm Production and Conservation Business Center', 'Farm Credit System Insurance Corporation', 'Executive Office for Immigration Review', 'Defense Nuclear Facilities Safety Board', 'Court Services and Offender Supervision Agency for the District of Columbia', 'Community Development Financial Institutions Fund', 'Central Intelligence Agency', 'Architectural and Transportation Barriers Compliance Board', 'Alcohol, Tobacco, Firearms, and Explosives Bureau', 'Agricultural Research Service', 'Advisory Council on Historic Preservation']\n"
          ]
        }
      ]
    },
    {
      "cell_type": "code",
      "source": [
        "#Here we are separating the individual unique classes available from the label pool and then using this information to represent a given label set with 0's and 1's.\n",
        "\n",
        "sample_label = train_df[\"agency_names\"].iloc[0]\n",
        "print(f\"Original label: {sample_label}\")\n",
        "\n",
        "label_binarized = lookup([sample_label])\n",
        "print(f\"Label-binarized representation: {label_binarized}\")"
      ],
      "metadata": {
        "colab": {
          "base_uri": "https://localhost:8080/"
        },
        "id": "XxfNuuojyoPf",
        "outputId": "8c13db50-8982-484c-9f2f-9f493efb2aaa"
      },
      "execution_count": 57,
      "outputs": [
        {
          "output_type": "stream",
          "name": "stdout",
          "text": [
            "Original label: ['Environmental Protection Agency']\n",
            "Label-binarized representation: [[0 0 0 0 0 0 0 0 1 0 0 0 0 0 0 0 0 0 0 0 0 0 0 0 0 0 0 0 0 0 0 0 0 0 0 0\n",
            "  0 0 0 0 0 0 0 0 0 0 0 0 0 0 0 0 0 0 0 0 0 0 0 0 0 0 0 0 0 0 0 0 0 0 0 0\n",
            "  0 0 0 0 0 0 0 0 0 0 0 0 0 0 0 0 0 0 0 0 0 0 0 0 0 0 0 0 0 0 0 0 0 0 0 0\n",
            "  0 0 0 0 0 0 0 0 0 0 0 0 0 0 0 0 0 0 0 0 0 0 0 0 0 0 0 0 0 0 0 0 0 0 0 0\n",
            "  0 0 0 0 0 0 0 0 0 0 0 0 0 0 0 0 0 0 0 0 0 0 0 0 0 0 0 0 0 0 0 0 0 0 0 0\n",
            "  0 0 0 0 0 0 0 0 0 0 0 0 0 0 0 0 0 0 0 0 0 0]]\n"
          ]
        }
      ]
    },
    {
      "cell_type": "code",
      "source": [
        "batch_size = 32\n",
        "\n",
        "def make_dataset(dataframe, is_train=True):\n",
        "    agency_labels = tf.ragged.constant(dataframe[\"agency_names\"].values)\n",
        "    type_labels = pd.get_dummies(dataframe[\"type\"]).values  # Convert type column to one-hot encoding\n",
        "    label_binarized = lookup(agency_labels).numpy()\n",
        "\n",
        "    # Ensure the text data is in a tensor of shape (batch_size,)\n",
        "    dataset = tf.data.Dataset.from_tensor_slices(\n",
        "        (dataframe[\"abstract\"].values, {\"agency_names\": label_binarized, \"type\": type_labels})\n",
        "    )\n",
        "\n",
        "    dataset = dataset.shuffle(batch_size * 10) if is_train else dataset\n",
        "    return dataset.batch(batch_size)"
      ],
      "metadata": {
        "id": "NtdQXVjZyuZp"
      },
      "execution_count": 58,
      "outputs": []
    },
    {
      "cell_type": "code",
      "source": [
        "# prepare datasets\n",
        "train_dataset = make_dataset(train_df, is_train=True)\n",
        "validation_dataset = make_dataset(val_df, is_train=False)\n",
        "test_dataset = make_dataset(test_df, is_train=False)"
      ],
      "metadata": {
        "id": "quc5iw4cy2a1"
      },
      "execution_count": 59,
      "outputs": []
    },
    {
      "cell_type": "code",
      "source": [
        "for text_batch, label_batch in train_dataset.take(1):\n",
        "       print(text_batch.shape)"
      ],
      "metadata": {
        "colab": {
          "base_uri": "https://localhost:8080/"
        },
        "id": "Phoiy9x5y5-p",
        "outputId": "e9f7c2f6-72b3-4c27-c67b-bc0cce971ab3"
      },
      "execution_count": 60,
      "outputs": [
        {
          "output_type": "stream",
          "name": "stdout",
          "text": [
            "(32,)\n"
          ]
        }
      ]
    },
    {
      "cell_type": "code",
      "source": [
        "# Extract a batch from the train dataset\n",
        "text_batch, label_batch = next(iter(train_dataset))\n",
        "\n",
        "# Loop through the first 10 examples in the batch\n",
        "for i, text in enumerate(text_batch[:10]):\n",
        "    agency_label = label_batch['agency_names'][i].numpy()[None, ...]  # Get the agency label\n",
        "    type_label = label_batch['type'][i].numpy()  # Get the type label\n",
        "\n",
        "    # Invert multi-hot encoding for agency names\n",
        "    agency_names = invert_multi_hot(agency_label[0])\n",
        "\n",
        "    # Extract the index of the active class from one-hot encoded `type_label`\n",
        "    type_label_scalar = type_label.argmax()\n",
        "\n",
        "    # Determine the type (notice, rule, or proposed rule)\n",
        "    if type_label_scalar == 0:\n",
        "        type_pred = \"rule\"\n",
        "    elif type_label_scalar == 1:\n",
        "        type_pred = \"notice\"\n",
        "    else:\n",
        "        type_pred = \"proposed rule\"\n",
        "\n",
        "    print(f\"Abstract: {text}\")\n",
        "    print(f\"Agency Labels: {agency_names}\")\n",
        "    print(f\"Type: {type_pred}\")\n",
        "    print(\" \")"
      ],
      "metadata": {
        "colab": {
          "base_uri": "https://localhost:8080/"
        },
        "id": "iMdgtjp2y99x",
        "outputId": "592e4bc7-16cc-4926-ac9f-95b8d1200d53"
      },
      "execution_count": 61,
      "outputs": [
        {
          "output_type": "stream",
          "name": "stdout",
          "text": [
            "Abstract: b'purpose federal register notice provide public notice secretary department veteran affair va intends enter enhanced use lease eul building 10 approximately acre underutilized land prescott campus northern arizona va health care system vahcs'\n",
            "Agency Labels: ['Veterans Affairs Department']\n",
            "Type: rule\n",
            " \n",
            "Abstract: b'accordance paperwork reduction act 1995 pra onrr proposing renew information collection information collection request icr onrr seek renewed authority collect information related paperwork requirement chief financial officer act 1990 cfo act covering collection royalty mineral revenue due obligation accounted account receivables'\n",
            "Agency Labels: ['Interior Department' 'Natural Resources Revenue Office']\n",
            "Type: rule\n",
            " \n",
            "Abstract: b'environmental protection agency epa correcting error found vessel incidental discharge national standard performance final rule final rule appeared federal register october 2024 correction remove footnote superscript number included error accompanying footnote text'\n",
            "Agency Labels: ['Environmental Protection Agency']\n",
            "Type: proposed rule\n",
            " \n",
            "Abstract: b'notice filing announces petition filed requesting propylene glycol phenyl ether added list taxable substance notice filing also request comment petition notice filing determination list taxable substance modified'\n",
            "Agency Labels: ['Treasury Department' 'Internal Revenue Service']\n",
            "Type: rule\n",
            " \n",
            "Abstract: b'surface transportation board adopted fourth quarter 2024 rail cost adjustment factor cost index filed association american railroad'\n",
            "Agency Labels: ['Surface Transportation Board']\n",
            "Type: rule\n",
            " \n",
            "Abstract: b'food drug administration fda agency announcing availability final guidance entitled transitional enforcement policy ethylene oxide sterilization facility change class iii device guidance provides information regarding fda recommendation general principle referenced holder premarket approval application pmas humanitarian device exemption hde class iii device sterilized ethylene oxide eto whose product affected potential actual temporary stop reduction operation sterilization facility wish fda consider whether exercise enforcement discretion relating implementation certain type sterilization site change appropriate fda issuing guidance provide enforcement discretion policy help proactively address manufacturing limitation supply chain issue due disruption caused closure potential closure sterilization facility use eto medical device sterilant time manufacturer transitioning compliance certain new requirement fda belief enforcement discretion policy described guidance may help address concern time related potential sterile medical device impact affecting certain device sterilized eto help mitigate possible interruption sterile device processing help maintain adequate supply finished sterile medical device guidance implemented without prior comment remains subject comment accordance agency good guidance practice'\n",
            "Agency Labels: ['Health and Human Services Department' 'Food and Drug Administration']\n",
            "Type: rule\n",
            " \n",
            "Abstract: b'postal service give notice filing request postal regulatory commission add domestic shipping service contract list negotiated service agreement mail classification schedule competitive product list'\n",
            "Agency Labels: ['Postal Service']\n",
            "Type: rule\n",
            " \n",
            "Abstract: b'hud seeking approval office management budget omb information collection described accordance paperwork reduction act hud requesting comment interested party proposed collection information purpose notice allow 60 day public comment'\n",
            "Agency Labels: ['Housing and Urban Development Department']\n",
            "Type: rule\n",
            " \n",
            "Abstract: b'postal service give notice filing request postal regulatory commission add domestic shipping service contract list negotiated service agreement mail classification schedule competitive product list'\n",
            "Agency Labels: ['Postal Service']\n",
            "Type: rule\n",
            " \n",
            "Abstract: b'accordance paperwork reduction act pra 1995 department proposing revision currently approved information collection request icr'\n",
            "Agency Labels: ['Education Department']\n",
            "Type: rule\n",
            " \n"
          ]
        }
      ]
    },
    {
      "cell_type": "code",
      "source": [
        "# Prepare the vocabulary\n",
        "vocabulary = set()\n",
        "train_df[\"abstract\"].str.lower().str.split().apply(vocabulary.update)\n",
        "vocabulary_size = len(vocabulary)\n",
        "print(f\"Vocabulary size: {vocabulary_size}\")"
      ],
      "metadata": {
        "colab": {
          "base_uri": "https://localhost:8080/"
        },
        "id": "IYnd85WRzOBc",
        "outputId": "19b22d69-25d4-457e-b11c-1ac0440ca4d5"
      },
      "execution_count": 62,
      "outputs": [
        {
          "output_type": "stream",
          "name": "stdout",
          "text": [
            "Vocabulary size: 12915\n"
          ]
        }
      ]
    },
    {
      "cell_type": "code",
      "source": [
        "# Text Vectorization\n",
        "text_vectorizer = layers.TextVectorization(\n",
        "    max_tokens=vocabulary_size, ngrams=2, output_mode=\"tf_idf\"\n",
        ")\n",
        "\n",
        "# Adapt the TextVectorization layer based on the training dataset\n",
        "with tf.device(\"/CPU:0\"):\n",
        "    text_vectorizer.adapt(train_df[\"abstract\"].values)"
      ],
      "metadata": {
        "id": "TQpzH8ULzXmM"
      },
      "execution_count": 63,
      "outputs": []
    },
    {
      "cell_type": "code",
      "source": [
        "# Apply vectorization to datasets\n",
        "train_dataset = train_dataset.map(\n",
        "    lambda text, label: (text_vectorizer(text), label), num_parallel_calls=tf.data.experimental.AUTOTUNE\n",
        ").prefetch(tf.data.experimental.AUTOTUNE)\n",
        "\n",
        "validation_dataset = validation_dataset.map(\n",
        "    lambda text, label: (text_vectorizer(text), label), num_parallel_calls=tf.data.experimental.AUTOTUNE\n",
        ").prefetch(tf.data.experimental.AUTOTUNE)\n",
        "\n",
        "test_dataset = test_dataset.map(\n",
        "    lambda text, label: (text_vectorizer(text), label), num_parallel_calls=tf.data.experimental.AUTOTUNE\n",
        ").prefetch(tf.data.experimental.AUTOTUNE)\n"
      ],
      "metadata": {
        "id": "1w_YYvzQzeLG"
      },
      "execution_count": 64,
      "outputs": []
    },
    {
      "cell_type": "markdown",
      "source": [
        "#Model Preparation & Training"
      ],
      "metadata": {
        "id": "6gPT7FLzKS1d"
      }
    },
    {
      "cell_type": "code",
      "source": [
        "#layers preparation\n",
        "\n",
        "# input layer\n",
        "text_input = Input(shape=(vocabulary_size,), dtype=\"float32\") # Adjust shape value according to Vocabulary size\n",
        "\n",
        "#output layers\n",
        "agency_names_output = layers.Dense(512, activation='relu')(text_input)\n",
        "agency_names_output = layers.Dense(256, activation='relu')(agency_names_output)\n",
        "agency_names_output = layers.Dense(128, activation='relu')(agency_names_output)\n",
        "agency_names_output = layers.Dense(lookup.vocabulary_size(), activation='sigmoid', name=\"agency_names\")(agency_names_output) #multi-label classification\n",
        "\n",
        "type_output = layers.Dense(512, activation='relu')(text_input)\n",
        "type_output = layers.Dense(256, activation='relu')(type_output)\n",
        "type_output = layers.Dense(128, activation='relu')(type_output)\n",
        "type_output = layers.Dense(3, activation='softmax', name=\"type\")(type_output)  # Multi-class classification"
      ],
      "metadata": {
        "id": "zt0prTJRzjWL"
      },
      "execution_count": 65,
      "outputs": []
    },
    {
      "cell_type": "code",
      "source": [
        "model = models.Model(inputs=text_input, outputs={\"agency_names\": agency_names_output, \"type\": type_output})\n",
        "model.compile(\n",
        "    loss={\"agency_names\": \"binary_crossentropy\", \"type\": \"categorical_crossentropy\"},\n",
        "    optimizer=\"adam\",\n",
        "    metrics={\"agency_names\": \"binary_accuracy\", \"type\": \"categorical_accuracy\"}\n",
        ")"
      ],
      "metadata": {
        "id": "cs1A-oz1zzhm"
      },
      "execution_count": 66,
      "outputs": []
    },
    {
      "cell_type": "code",
      "source": [
        "model.summary()"
      ],
      "metadata": {
        "colab": {
          "base_uri": "https://localhost:8080/",
          "height": 433
        },
        "id": "IBGh5XqfeksF",
        "outputId": "93229d6e-bac6-4558-c417-4d9beace292f"
      },
      "execution_count": 67,
      "outputs": [
        {
          "output_type": "display_data",
          "data": {
            "text/plain": [
              "\u001b[1mModel: \"functional_3\"\u001b[0m\n"
            ],
            "text/html": [
              "<pre style=\"white-space:pre;overflow-x:auto;line-height:normal;font-family:Menlo,'DejaVu Sans Mono',consolas,'Courier New',monospace\"><span style=\"font-weight: bold\">Model: \"functional_3\"</span>\n",
              "</pre>\n"
            ]
          },
          "metadata": {}
        },
        {
          "output_type": "display_data",
          "data": {
            "text/plain": [
              "┏━━━━━━━━━━━━━━━━━━━━━━━━━━━┳━━━━━━━━━━━━━━━━━━━━━━━━┳━━━━━━━━━━━━━━━━┳━━━━━━━━━━━━━━━━━━━━━━━━┓\n",
              "┃\u001b[1m \u001b[0m\u001b[1mLayer (type)             \u001b[0m\u001b[1m \u001b[0m┃\u001b[1m \u001b[0m\u001b[1mOutput Shape          \u001b[0m\u001b[1m \u001b[0m┃\u001b[1m \u001b[0m\u001b[1m       Param #\u001b[0m\u001b[1m \u001b[0m┃\u001b[1m \u001b[0m\u001b[1mConnected to          \u001b[0m\u001b[1m \u001b[0m┃\n",
              "┡━━━━━━━━━━━━━━━━━━━━━━━━━━━╇━━━━━━━━━━━━━━━━━━━━━━━━╇━━━━━━━━━━━━━━━━╇━━━━━━━━━━━━━━━━━━━━━━━━┩\n",
              "│ input_layer_3             │ (\u001b[38;5;45mNone\u001b[0m, \u001b[38;5;34m12915\u001b[0m)          │              \u001b[38;5;34m0\u001b[0m │ -                      │\n",
              "│ (\u001b[38;5;33mInputLayer\u001b[0m)              │                        │                │                        │\n",
              "├───────────────────────────┼────────────────────────┼────────────────┼────────────────────────┤\n",
              "│ dense_6 (\u001b[38;5;33mDense\u001b[0m)           │ (\u001b[38;5;45mNone\u001b[0m, \u001b[38;5;34m512\u001b[0m)            │      \u001b[38;5;34m6,612,992\u001b[0m │ input_layer_3[\u001b[38;5;34m0\u001b[0m][\u001b[38;5;34m0\u001b[0m]    │\n",
              "├───────────────────────────┼────────────────────────┼────────────────┼────────────────────────┤\n",
              "│ dense_9 (\u001b[38;5;33mDense\u001b[0m)           │ (\u001b[38;5;45mNone\u001b[0m, \u001b[38;5;34m512\u001b[0m)            │      \u001b[38;5;34m6,612,992\u001b[0m │ input_layer_3[\u001b[38;5;34m0\u001b[0m][\u001b[38;5;34m0\u001b[0m]    │\n",
              "├───────────────────────────┼────────────────────────┼────────────────┼────────────────────────┤\n",
              "│ dense_7 (\u001b[38;5;33mDense\u001b[0m)           │ (\u001b[38;5;45mNone\u001b[0m, \u001b[38;5;34m256\u001b[0m)            │        \u001b[38;5;34m131,328\u001b[0m │ dense_6[\u001b[38;5;34m0\u001b[0m][\u001b[38;5;34m0\u001b[0m]          │\n",
              "├───────────────────────────┼────────────────────────┼────────────────┼────────────────────────┤\n",
              "│ dense_10 (\u001b[38;5;33mDense\u001b[0m)          │ (\u001b[38;5;45mNone\u001b[0m, \u001b[38;5;34m256\u001b[0m)            │        \u001b[38;5;34m131,328\u001b[0m │ dense_9[\u001b[38;5;34m0\u001b[0m][\u001b[38;5;34m0\u001b[0m]          │\n",
              "├───────────────────────────┼────────────────────────┼────────────────┼────────────────────────┤\n",
              "│ dense_8 (\u001b[38;5;33mDense\u001b[0m)           │ (\u001b[38;5;45mNone\u001b[0m, \u001b[38;5;34m128\u001b[0m)            │         \u001b[38;5;34m32,896\u001b[0m │ dense_7[\u001b[38;5;34m0\u001b[0m][\u001b[38;5;34m0\u001b[0m]          │\n",
              "├───────────────────────────┼────────────────────────┼────────────────┼────────────────────────┤\n",
              "│ dense_11 (\u001b[38;5;33mDense\u001b[0m)          │ (\u001b[38;5;45mNone\u001b[0m, \u001b[38;5;34m128\u001b[0m)            │         \u001b[38;5;34m32,896\u001b[0m │ dense_10[\u001b[38;5;34m0\u001b[0m][\u001b[38;5;34m0\u001b[0m]         │\n",
              "├───────────────────────────┼────────────────────────┼────────────────┼────────────────────────┤\n",
              "│ agency_names (\u001b[38;5;33mDense\u001b[0m)      │ (\u001b[38;5;45mNone\u001b[0m, \u001b[38;5;34m202\u001b[0m)            │         \u001b[38;5;34m26,058\u001b[0m │ dense_8[\u001b[38;5;34m0\u001b[0m][\u001b[38;5;34m0\u001b[0m]          │\n",
              "├───────────────────────────┼────────────────────────┼────────────────┼────────────────────────┤\n",
              "│ type (\u001b[38;5;33mDense\u001b[0m)              │ (\u001b[38;5;45mNone\u001b[0m, \u001b[38;5;34m3\u001b[0m)              │            \u001b[38;5;34m387\u001b[0m │ dense_11[\u001b[38;5;34m0\u001b[0m][\u001b[38;5;34m0\u001b[0m]         │\n",
              "└───────────────────────────┴────────────────────────┴────────────────┴────────────────────────┘\n"
            ],
            "text/html": [
              "<pre style=\"white-space:pre;overflow-x:auto;line-height:normal;font-family:Menlo,'DejaVu Sans Mono',consolas,'Courier New',monospace\">┏━━━━━━━━━━━━━━━━━━━━━━━━━━━┳━━━━━━━━━━━━━━━━━━━━━━━━┳━━━━━━━━━━━━━━━━┳━━━━━━━━━━━━━━━━━━━━━━━━┓\n",
              "┃<span style=\"font-weight: bold\"> Layer (type)              </span>┃<span style=\"font-weight: bold\"> Output Shape           </span>┃<span style=\"font-weight: bold\">        Param # </span>┃<span style=\"font-weight: bold\"> Connected to           </span>┃\n",
              "┡━━━━━━━━━━━━━━━━━━━━━━━━━━━╇━━━━━━━━━━━━━━━━━━━━━━━━╇━━━━━━━━━━━━━━━━╇━━━━━━━━━━━━━━━━━━━━━━━━┩\n",
              "│ input_layer_3             │ (<span style=\"color: #00d7ff; text-decoration-color: #00d7ff\">None</span>, <span style=\"color: #00af00; text-decoration-color: #00af00\">12915</span>)          │              <span style=\"color: #00af00; text-decoration-color: #00af00\">0</span> │ -                      │\n",
              "│ (<span style=\"color: #0087ff; text-decoration-color: #0087ff\">InputLayer</span>)              │                        │                │                        │\n",
              "├───────────────────────────┼────────────────────────┼────────────────┼────────────────────────┤\n",
              "│ dense_6 (<span style=\"color: #0087ff; text-decoration-color: #0087ff\">Dense</span>)           │ (<span style=\"color: #00d7ff; text-decoration-color: #00d7ff\">None</span>, <span style=\"color: #00af00; text-decoration-color: #00af00\">512</span>)            │      <span style=\"color: #00af00; text-decoration-color: #00af00\">6,612,992</span> │ input_layer_3[<span style=\"color: #00af00; text-decoration-color: #00af00\">0</span>][<span style=\"color: #00af00; text-decoration-color: #00af00\">0</span>]    │\n",
              "├───────────────────────────┼────────────────────────┼────────────────┼────────────────────────┤\n",
              "│ dense_9 (<span style=\"color: #0087ff; text-decoration-color: #0087ff\">Dense</span>)           │ (<span style=\"color: #00d7ff; text-decoration-color: #00d7ff\">None</span>, <span style=\"color: #00af00; text-decoration-color: #00af00\">512</span>)            │      <span style=\"color: #00af00; text-decoration-color: #00af00\">6,612,992</span> │ input_layer_3[<span style=\"color: #00af00; text-decoration-color: #00af00\">0</span>][<span style=\"color: #00af00; text-decoration-color: #00af00\">0</span>]    │\n",
              "├───────────────────────────┼────────────────────────┼────────────────┼────────────────────────┤\n",
              "│ dense_7 (<span style=\"color: #0087ff; text-decoration-color: #0087ff\">Dense</span>)           │ (<span style=\"color: #00d7ff; text-decoration-color: #00d7ff\">None</span>, <span style=\"color: #00af00; text-decoration-color: #00af00\">256</span>)            │        <span style=\"color: #00af00; text-decoration-color: #00af00\">131,328</span> │ dense_6[<span style=\"color: #00af00; text-decoration-color: #00af00\">0</span>][<span style=\"color: #00af00; text-decoration-color: #00af00\">0</span>]          │\n",
              "├───────────────────────────┼────────────────────────┼────────────────┼────────────────────────┤\n",
              "│ dense_10 (<span style=\"color: #0087ff; text-decoration-color: #0087ff\">Dense</span>)          │ (<span style=\"color: #00d7ff; text-decoration-color: #00d7ff\">None</span>, <span style=\"color: #00af00; text-decoration-color: #00af00\">256</span>)            │        <span style=\"color: #00af00; text-decoration-color: #00af00\">131,328</span> │ dense_9[<span style=\"color: #00af00; text-decoration-color: #00af00\">0</span>][<span style=\"color: #00af00; text-decoration-color: #00af00\">0</span>]          │\n",
              "├───────────────────────────┼────────────────────────┼────────────────┼────────────────────────┤\n",
              "│ dense_8 (<span style=\"color: #0087ff; text-decoration-color: #0087ff\">Dense</span>)           │ (<span style=\"color: #00d7ff; text-decoration-color: #00d7ff\">None</span>, <span style=\"color: #00af00; text-decoration-color: #00af00\">128</span>)            │         <span style=\"color: #00af00; text-decoration-color: #00af00\">32,896</span> │ dense_7[<span style=\"color: #00af00; text-decoration-color: #00af00\">0</span>][<span style=\"color: #00af00; text-decoration-color: #00af00\">0</span>]          │\n",
              "├───────────────────────────┼────────────────────────┼────────────────┼────────────────────────┤\n",
              "│ dense_11 (<span style=\"color: #0087ff; text-decoration-color: #0087ff\">Dense</span>)          │ (<span style=\"color: #00d7ff; text-decoration-color: #00d7ff\">None</span>, <span style=\"color: #00af00; text-decoration-color: #00af00\">128</span>)            │         <span style=\"color: #00af00; text-decoration-color: #00af00\">32,896</span> │ dense_10[<span style=\"color: #00af00; text-decoration-color: #00af00\">0</span>][<span style=\"color: #00af00; text-decoration-color: #00af00\">0</span>]         │\n",
              "├───────────────────────────┼────────────────────────┼────────────────┼────────────────────────┤\n",
              "│ agency_names (<span style=\"color: #0087ff; text-decoration-color: #0087ff\">Dense</span>)      │ (<span style=\"color: #00d7ff; text-decoration-color: #00d7ff\">None</span>, <span style=\"color: #00af00; text-decoration-color: #00af00\">202</span>)            │         <span style=\"color: #00af00; text-decoration-color: #00af00\">26,058</span> │ dense_8[<span style=\"color: #00af00; text-decoration-color: #00af00\">0</span>][<span style=\"color: #00af00; text-decoration-color: #00af00\">0</span>]          │\n",
              "├───────────────────────────┼────────────────────────┼────────────────┼────────────────────────┤\n",
              "│ type (<span style=\"color: #0087ff; text-decoration-color: #0087ff\">Dense</span>)              │ (<span style=\"color: #00d7ff; text-decoration-color: #00d7ff\">None</span>, <span style=\"color: #00af00; text-decoration-color: #00af00\">3</span>)              │            <span style=\"color: #00af00; text-decoration-color: #00af00\">387</span> │ dense_11[<span style=\"color: #00af00; text-decoration-color: #00af00\">0</span>][<span style=\"color: #00af00; text-decoration-color: #00af00\">0</span>]         │\n",
              "└───────────────────────────┴────────────────────────┴────────────────┴────────────────────────┘\n",
              "</pre>\n"
            ]
          },
          "metadata": {}
        },
        {
          "output_type": "display_data",
          "data": {
            "text/plain": [
              "\u001b[1m Total params: \u001b[0m\u001b[38;5;34m13,580,877\u001b[0m (51.81 MB)\n"
            ],
            "text/html": [
              "<pre style=\"white-space:pre;overflow-x:auto;line-height:normal;font-family:Menlo,'DejaVu Sans Mono',consolas,'Courier New',monospace\"><span style=\"font-weight: bold\"> Total params: </span><span style=\"color: #00af00; text-decoration-color: #00af00\">13,580,877</span> (51.81 MB)\n",
              "</pre>\n"
            ]
          },
          "metadata": {}
        },
        {
          "output_type": "display_data",
          "data": {
            "text/plain": [
              "\u001b[1m Trainable params: \u001b[0m\u001b[38;5;34m13,580,877\u001b[0m (51.81 MB)\n"
            ],
            "text/html": [
              "<pre style=\"white-space:pre;overflow-x:auto;line-height:normal;font-family:Menlo,'DejaVu Sans Mono',consolas,'Courier New',monospace\"><span style=\"font-weight: bold\"> Trainable params: </span><span style=\"color: #00af00; text-decoration-color: #00af00\">13,580,877</span> (51.81 MB)\n",
              "</pre>\n"
            ]
          },
          "metadata": {}
        },
        {
          "output_type": "display_data",
          "data": {
            "text/plain": [
              "\u001b[1m Non-trainable params: \u001b[0m\u001b[38;5;34m0\u001b[0m (0.00 B)\n"
            ],
            "text/html": [
              "<pre style=\"white-space:pre;overflow-x:auto;line-height:normal;font-family:Menlo,'DejaVu Sans Mono',consolas,'Courier New',monospace\"><span style=\"font-weight: bold\"> Non-trainable params: </span><span style=\"color: #00af00; text-decoration-color: #00af00\">0</span> (0.00 B)\n",
              "</pre>\n"
            ]
          },
          "metadata": {}
        }
      ]
    },
    {
      "cell_type": "code",
      "source": [
        "early_stopping = EarlyStopping(monitor=\"val_loss\", patience=3, restore_best_weights=True)\n",
        "\n",
        "#model training\n",
        "epochs = 10\n",
        "history = model.fit(\n",
        "    train_dataset,\n",
        "    validation_data=validation_dataset,\n",
        "    epochs=epochs,\n",
        "    callbacks=[early_stopping]\n",
        ")"
      ],
      "metadata": {
        "colab": {
          "base_uri": "https://localhost:8080/"
        },
        "id": "tWOnz0Ic0FQh",
        "outputId": "7526edfb-9855-4004-d7fe-1f4f428b2042"
      },
      "execution_count": 68,
      "outputs": [
        {
          "output_type": "stream",
          "name": "stdout",
          "text": [
            "Epoch 1/10\n",
            "\u001b[1m179/179\u001b[0m \u001b[32m━━━━━━━━━━━━━━━━━━━━\u001b[0m\u001b[37m\u001b[0m \u001b[1m41s\u001b[0m 210ms/step - agency_names_binary_accuracy: 0.9407 - agency_names_loss: 0.1503 - loss: 0.6473 - type_categorical_accuracy: 0.8474 - type_loss: 0.4970 - val_agency_names_binary_accuracy: 0.9984 - val_agency_names_loss: 0.0083 - val_loss: 0.1052 - val_type_categorical_accuracy: 0.9679 - val_type_loss: 0.0962\n",
            "Epoch 2/10\n",
            "\u001b[1m179/179\u001b[0m \u001b[32m━━━━━━━━━━━━━━━━━━━━\u001b[0m\u001b[37m\u001b[0m \u001b[1m35s\u001b[0m 183ms/step - agency_names_binary_accuracy: 0.9989 - agency_names_loss: 0.0052 - loss: 0.0466 - type_categorical_accuracy: 0.9894 - type_loss: 0.0415 - val_agency_names_binary_accuracy: 0.9990 - val_agency_names_loss: 0.0055 - val_loss: 0.1093 - val_type_categorical_accuracy: 0.9665 - val_type_loss: 0.1026\n",
            "Epoch 3/10\n",
            "\u001b[1m179/179\u001b[0m \u001b[32m━━━━━━━━━━━━━━━━━━━━\u001b[0m\u001b[37m\u001b[0m \u001b[1m43s\u001b[0m 196ms/step - agency_names_binary_accuracy: 0.9996 - agency_names_loss: 0.0015 - loss: 0.0301 - type_categorical_accuracy: 0.9913 - type_loss: 0.0286 - val_agency_names_binary_accuracy: 0.9989 - val_agency_names_loss: 0.0061 - val_loss: 0.1922 - val_type_categorical_accuracy: 0.9623 - val_type_loss: 0.1850\n",
            "Epoch 4/10\n",
            "\u001b[1m179/179\u001b[0m \u001b[32m━━━━━━━━━━━━━━━━━━━━\u001b[0m\u001b[37m\u001b[0m \u001b[1m35s\u001b[0m 196ms/step - agency_names_binary_accuracy: 0.9998 - agency_names_loss: 7.0317e-04 - loss: 0.0176 - type_categorical_accuracy: 0.9960 - type_loss: 0.0169 - val_agency_names_binary_accuracy: 0.9990 - val_agency_names_loss: 0.0061 - val_loss: 0.1994 - val_type_categorical_accuracy: 0.9553 - val_type_loss: 0.1921\n"
          ]
        }
      ]
    },
    {
      "cell_type": "code",
      "source": [
        "final_epoch_index = len(history.history['loss']) - 1\n",
        "\n",
        "print(\"----------- Training and validation Metrics ---------------\")\n",
        "print(f\" Agency prediction accuracy on the train set: {history.history['agency_names_binary_accuracy'][final_epoch_index]}\")\n",
        "print(f\" Agency prediction accuracy on the validation set: {history.history['val_agency_names_binary_accuracy'][final_epoch_index]}\")\n",
        "print(f\" Type prediction accuracy on the train set: {history.history['type_categorical_accuracy'][final_epoch_index]}\")\n",
        "print(f\" Type prediction accuracy on the validation set: {history.history['val_type_categorical_accuracy'][final_epoch_index]}\")"
      ],
      "metadata": {
        "colab": {
          "base_uri": "https://localhost:8080/"
        },
        "id": "VJXTwxJWAC4C",
        "outputId": "7c44c853-d8c1-498d-f355-784d66c8f565"
      },
      "execution_count": 69,
      "outputs": [
        {
          "output_type": "stream",
          "name": "stdout",
          "text": [
            "----------- Training and validation Metrics ---------------\n",
            " Agency prediction accuracy on the train set: 0.9998420476913452\n",
            " Agency prediction accuracy on the validation set: 0.9990457892417908\n",
            " Type prediction accuracy on the train set: 0.9970310926437378\n",
            " Type prediction accuracy on the validation set: 0.9553072452545166\n"
          ]
        }
      ]
    },
    {
      "cell_type": "markdown",
      "source": [
        "#Model Evaluation"
      ],
      "metadata": {
        "id": "iuX3KVeHM9oR"
      }
    },
    {
      "cell_type": "code",
      "source": [
        "loss, agency_loss, type_loss, agency_acc, type_acc = model.evaluate(test_dataset)\n",
        "print(\"----- Test Metrics ------\")\n",
        "print(f\"Agency prediction accuracy on the test set: {round(agency_acc * 100, 2)}%\")\n",
        "print(f\"Type prediction accuracy on the test set: {round(type_acc * 100, 2)}%\")"
      ],
      "metadata": {
        "colab": {
          "base_uri": "https://localhost:8080/"
        },
        "id": "NG65-Cbs009O",
        "outputId": "82c8f589-c363-46f4-d6d2-3fc623e5fd6a"
      },
      "execution_count": 70,
      "outputs": [
        {
          "output_type": "stream",
          "name": "stdout",
          "text": [
            "\u001b[1m23/23\u001b[0m \u001b[32m━━━━━━━━━━━━━━━━━━━━\u001b[0m\u001b[37m\u001b[0m \u001b[1m3s\u001b[0m 134ms/step - agency_names_binary_accuracy: 0.9982 - agency_names_loss: 0.0091 - loss: 0.1315 - type_categorical_accuracy: 0.9649 - type_loss: 0.1226\n",
            "----- Test Metrics ------\n",
            "Agency prediction accuracy on the test set: 99.83%\n",
            "Type prediction accuracy on the test set: 96.51%\n"
          ]
        }
      ]
    },
    {
      "cell_type": "code",
      "source": [
        "predictions = model.predict(test_dataset)\n",
        "\n",
        "#Extract agency predictions and true labels\n",
        "agency_predictions = predictions['agency_names']\n",
        "agency_true_labels = np.concatenate([labels['agency_names'] for _, labels in test_dataset], axis=0)\n",
        "agency_pred_binary = (agency_predictions > 0.5).astype(int) # Convert predictions to binary (0 or 1)\n",
        "\n",
        "#metrics calculation\n",
        "precision_agency = precision_score(agency_true_labels, agency_pred_binary, average='micro')\n",
        "recall_agency = recall_score(agency_true_labels, agency_pred_binary, average='micro')\n",
        "f1_agency = f1_score(agency_true_labels, agency_pred_binary, average='micro')\n",
        "\n",
        "print(f\"Agency prediction Precision: {precision_agency:.4f}\")\n",
        "print(f\"Agency prediction Recall: {recall_agency:.4f}\")\n",
        "print(f\"Agency prediction F1 Score: {f1_agency:.4f}\")"
      ],
      "metadata": {
        "colab": {
          "base_uri": "https://localhost:8080/"
        },
        "id": "L6QeoDHAK4Lt",
        "outputId": "27c9cb9b-e49f-4457-d8d9-05d46619a163"
      },
      "execution_count": 71,
      "outputs": [
        {
          "output_type": "stream",
          "name": "stderr",
          "text": [
            "WARNING:tensorflow:5 out of the last 26 calls to <function TensorFlowTrainer.make_predict_function.<locals>.one_step_on_data_distributed at 0x7a8e6573c040> triggered tf.function retracing. Tracing is expensive and the excessive number of tracings could be due to (1) creating @tf.function repeatedly in a loop, (2) passing tensors with different shapes, (3) passing Python objects instead of tensors. For (1), please define your @tf.function outside of the loop. For (2), @tf.function has reduce_retracing=True option that can avoid unnecessary retracing. For (3), please refer to https://www.tensorflow.org/guide/function#controlling_retracing and https://www.tensorflow.org/api_docs/python/tf/function for  more details.\n"
          ]
        },
        {
          "output_type": "stream",
          "name": "stdout",
          "text": [
            "\u001b[1m23/23\u001b[0m \u001b[32m━━━━━━━━━━━━━━━━━━━━\u001b[0m\u001b[37m\u001b[0m \u001b[1m4s\u001b[0m 144ms/step\n",
            "Agency prediction Precision: 0.9825\n",
            "Agency prediction Recall: 0.8007\n",
            "Agency prediction F1 Score: 0.8823\n"
          ]
        }
      ]
    },
    {
      "cell_type": "code",
      "source": [
        "#Extract type predictions and true labels\n",
        "type_predictions = predictions['type']\n",
        "type_true_labels = np.concatenate([labels['type'] for _, labels in test_dataset], axis=0)\n",
        "type_pred_labels = np.argmax(type_predictions, axis=1)\n",
        "type_true_labels = np.argmax(type_true_labels, axis = 1)\n",
        "\n",
        "#metrics calculation\n",
        "precision_type = precision_score(type_true_labels, type_pred_labels, average='macro')\n",
        "recall_type = recall_score(type_true_labels, type_pred_labels, average='macro')\n",
        "f1_type = f1_score(type_true_labels, type_pred_labels, average='macro')\n",
        "\n",
        "print(f\"Type prediction Precision: {precision_type:.4f}\")\n",
        "print(f\"Type prediction Recall: {recall_type:.4f}\")\n",
        "print(f\"Type prediction F1 Score: {f1_type:.4f}\")"
      ],
      "metadata": {
        "colab": {
          "base_uri": "https://localhost:8080/"
        },
        "id": "D-u7BtuVN_QM",
        "outputId": "eb3b3aa0-666b-4a39-8914-29abce6babb9"
      },
      "execution_count": 72,
      "outputs": [
        {
          "output_type": "stream",
          "name": "stdout",
          "text": [
            "Type prediction Precision: 0.9453\n",
            "Type prediction Recall: 0.8901\n",
            "Type prediction F1 Score: 0.9159\n"
          ]
        }
      ]
    },
    {
      "cell_type": "markdown",
      "source": [
        "#Predictions on test set"
      ],
      "metadata": {
        "id": "SvxGI1Xj1bV1"
      }
    },
    {
      "cell_type": "code",
      "source": [
        "# Combine TextVectorization and trained model into a single inference model\n",
        "model_for_inference = models.Sequential([text_vectorizer, model])\n",
        "\n",
        "inference_dataset = make_dataset(test_df.sample(20), is_train=False) #taking a sample of 20 abstracts\n",
        "text_batch, label_batch = next(iter(inference_dataset))\n",
        "\n",
        "# Perform inference on the text batch\n",
        "predicted_probabilities = model_for_inference.predict(text_batch)\n",
        "\n",
        "for i, text in enumerate(text_batch[:len(predicted_probabilities[\"agency_names\"])]):\n",
        "    type_label = label_batch['type'][i].numpy()\n",
        "\n",
        "    # Invert multi-hot encoding for agency names\n",
        "    true_agency_names = label_batch['agency_names'][i].numpy()\n",
        "    true_agency_names = [lookup.get_vocabulary()[j] for j in np.where(true_agency_names == 1)[0]]\n",
        "    true_type = [\"rule\", \"proposed rule\", \"notice\"][np.where(type_label)[0][0]]\n",
        "\n",
        "    # Predicted probabilities for agency names and type\n",
        "    agency_proba = predicted_probabilities[\"agency_names\"][i]\n",
        "    type_proba = predicted_probabilities[\"type\"][i]  # Vector of probabilities for three classes\n",
        "    predicted_type = [\"rule\", \"proposed rule\", \"notice\"][np.argmax(type_proba)]  # Decode the class\n",
        "\n",
        "    top_3_agencies = [\n",
        "        name\n",
        "        for _, name in sorted(\n",
        "            zip(agency_proba, lookup.get_vocabulary()),\n",
        "            key=lambda pair: pair[0],\n",
        "            reverse=True,\n",
        "        )\n",
        "    ][:3]\n",
        "\n",
        "    print(f\"Abstract: {text.numpy().decode('utf-8')}\")\n",
        "    print(f\"True Agency Labels: {', '.join(true_agency_names)}\")\n",
        "    print(f\"Predicted Agencies: {', '.join(top_3_agencies)}\")\n",
        "    print(f\"True Type: {true_type}\")\n",
        "    print(f\"Predicted Type: {predicted_type}\")\n",
        "    print(\" \")"
      ],
      "metadata": {
        "colab": {
          "base_uri": "https://localhost:8080/"
        },
        "id": "TU_PnYnY04QT",
        "outputId": "c29730d2-9977-4536-a4ad-3a3765c429ad"
      },
      "execution_count": 73,
      "outputs": [
        {
          "output_type": "stream",
          "name": "stdout",
          "text": [
            "\u001b[1m1/1\u001b[0m \u001b[32m━━━━━━━━━━━━━━━━━━━━\u001b[0m\u001b[37m\u001b[0m \u001b[1m0s\u001b[0m 216ms/step\n",
            "Abstract: faa proposes adopt new airworthiness directive ad certain airbus sa model a319 111 112 113 114 115 131 132 133 airplane a320 211 212 214 216 231 232 233 airplane a321 111 112 131 211 212 213 231 232 airplane proposed ad prompted full scale fatigue test found crack main landing gear mlg bay rear skin panel stringer run frame 46 stringer 32 left hand right hand side proposed ad would require repetitive special detailed inspection sdis affected area cracking applicable corrective action specified european union aviation safety agency easa ad proposed incorporation reference ibr faa proposing ad address unsafe condition product\n",
            "True Agency Labels: Transportation Department, Federal Aviation Administration\n",
            "Predicted Agencies: Transportation Department, Federal Aviation Administration, Federal Motor Carrier Safety Administration\n",
            "True Type: proposed rule\n",
            "Predicted Type: proposed rule\n",
            " \n",
            "Abstract: environmental protection agency epa announces deletion one site partial deletion four site superfund national priority list npl npl created comprehensive environmental response compensation liability act cercla 1980 amended appendix national oil hazardous substance pollution contingency plan ncp epa state designated state agency determined appropriate response action cercla completed however deletion preclude future action superfund\n",
            "True Agency Labels: Environmental Protection Agency\n",
            "Predicted Agencies: Environmental Protection Agency, Housing and Urban Development Department, General Services Administration\n",
            "True Type: notice\n",
            "Predicted Type: notice\n",
            " \n",
            "Abstract: closed meeting art advisory panel held new york ny entire meeting closed\n",
            "True Agency Labels: Treasury Department, Internal Revenue Service\n",
            "Predicted Agencies: Health and Human Services Department, Treasury Department, Environmental Protection Agency\n",
            "True Type: rule\n",
            "Predicted Type: rule\n",
            " \n",
            "Abstract: united state general service administration gsa issuing final rule amending federal management regulation fmr amendment executes change include removal addition revision definition elimination gender pronoun simplification requirement alteration statutory reference clarification gsa role adjudicating dispute arising audit transportation bill adjustment necessary furnish accurate guidance agency facilitate proper management compliance transportation invoice payment audit obligation\n",
            "True Agency Labels: General Services Administration\n",
            "Predicted Agencies: General Services Administration, Environmental Protection Agency, Transportation Department\n",
            "True Type: notice\n",
            "Predicted Type: notice\n",
            " \n",
            "Abstract: postal service give notice filing request postal regulatory commission add domestic shipping service contract list negotiated service agreement mail classification schedule competitive product list\n",
            "True Agency Labels: Postal Service\n",
            "Predicted Agencies: Postal Service, National Institute of Standards and Technology, Transportation Department\n",
            "True Type: rule\n",
            "Predicted Type: rule\n",
            " \n",
            "Abstract: notice presidential declaration emergency state louisiana fema 3614 em dated september 10 2024 related determination\n",
            "True Agency Labels: Homeland Security Department, Federal Emergency Management Agency\n",
            "Predicted Agencies: Federal Emergency Management Agency, Homeland Security Department, Small Business Administration\n",
            "True Type: rule\n",
            "Predicted Type: rule\n",
            " \n",
            "Abstract: postal service give notice filing request postal regulatory commission add domestic shipping service contract list negotiated service agreement mail classification schedule competitive product list\n",
            "True Agency Labels: Postal Service\n",
            "Predicted Agencies: Postal Service, National Institute of Standards and Technology, Transportation Department\n",
            "True Type: rule\n",
            "Predicted Type: rule\n",
            " \n",
            "Abstract: department commerce commerce preliminarily find certain exporter made sale certain metal locker part thereof metal locker people republic china china certain company shipment metal locker china period review period review por august 2022 july 31 2023 additionally commerce rescinding review respect certain company interested party invited comment preliminary result\n",
            "True Agency Labels: Commerce Department, International Trade Administration\n",
            "Predicted Agencies: International Trade Administration, Commerce Department, Transportation Department\n",
            "True Type: rule\n",
            "Predicted Type: rule\n",
            " \n",
            "Abstract: pursuant federal clean air act caa act environmental protection agency epa proposing disapprove revision texas state implementation plan sip submitted state texas texas commission environmental quality tceq august 20 2020 sip submittal address emission planned maintenance startup shutdown ms activity certain electric generating unit egus includes requirement intended address visible emission opacity particulate matter pm emission planned ms activity requirement included eight agreed order aos issued tceq affected egus provided sip revision epa proposing determine requirement contained aos meet caa requirement emission limitation must practically enforceable must apply continuous basis taking action accordance section 110 act\n",
            "True Agency Labels: Environmental Protection Agency\n",
            "Predicted Agencies: Environmental Protection Agency, Housing and Urban Development Department, Transportation Department\n",
            "True Type: proposed rule\n",
            "Predicted Type: proposed rule\n",
            " \n",
            "Abstract: postal service give notice filing request postal regulatory commission add domestic shipping service contract list negotiated service agreement mail classification schedule competitive product list\n",
            "True Agency Labels: Postal Service\n",
            "Predicted Agencies: Postal Service, National Institute of Standards and Technology, Transportation Department\n",
            "True Type: rule\n",
            "Predicted Type: rule\n",
            " \n",
            "Abstract: required privacy act 1974 office management budget omb circular 108 130 department energy doe department publishing notice modification existing privacy act system record doe proposes amend system record doe 26 official travel record system record notice sorn modified align new formatting requirement published omb ensure appropriate privacy act coverage business process privacy act information\n",
            "True Agency Labels: Energy Department\n",
            "Predicted Agencies: Energy Department, International Trade Administration, Interior Department\n",
            "True Type: rule\n",
            "Predicted Type: rule\n",
            " \n",
            "Abstract: hrsa announcing supplemental award fund patient centered outcome research trust fund current hrsa award recipient expand activity autism longitudinal data project aldp funding used create share combined de identified dataset boston birth cohort bbc massachusetts pregnancy early life longitudinal data system agency healthcare research quality social determinant health database\n",
            "True Agency Labels: Health and Human Services Department, Health Resources and Services Administration\n",
            "Predicted Agencies: Health and Human Services Department, National Highway Traffic Safety Administration, Transportation Department\n",
            "True Type: rule\n",
            "Predicted Type: rule\n",
            " \n",
            "Abstract: amendment presidential declaration major disaster public assistance san carlos apache tribe fema 4833 dr dated october 2024 incident watch fire incident period july 10 2024 july 17 2024\n",
            "True Agency Labels: Small Business Administration\n",
            "Predicted Agencies: Small Business Administration, Federal Emergency Management Agency, Homeland Security Department\n",
            "True Type: rule\n",
            "Predicted Type: rule\n",
            " \n",
            "Abstract: food drug administration fda agency issuing final order reclassify cytomegalovirus cmv deoxyribonucleic acid dna quantitative assay device intended transplant patient management postamendments class iii device product code pab class ii general control special control subject premarket notification\n",
            "True Agency Labels: Health and Human Services Department, Food and Drug Administration\n",
            "Predicted Agencies: Health and Human Services Department, Food and Drug Administration, Housing and Urban Development Department\n",
            "True Type: notice\n",
            "Predicted Type: notice\n",
            " \n",
            "Abstract: faa proposes adopt new airworthiness directive ad certain boeing company model 737 800 series airplane proposed ad prompted determination compliance time initial ultrasonic inspection required ad 2019 11 06 insufficient certain airplane proposed ad would require reducing compliance time ultrasonic inspection skin drag link assembly faa proposing ad address unsafe condition product\n",
            "True Agency Labels: Transportation Department, Federal Aviation Administration\n",
            "Predicted Agencies: Transportation Department, Federal Aviation Administration, Federal Motor Carrier Safety Administration\n",
            "True Type: proposed rule\n",
            "Predicted Type: proposed rule\n",
            " \n",
            "Abstract: department treasury part continuing effort reduce paperwork burden invite general public federal agency comment information collection due extension approval office management budget office international affair department treasury soliciting comment concerning extension without change following form treasury international capital form report holding transaction financial derivative contract foreign resident report mandatory\n",
            "True Agency Labels: Treasury Department\n",
            "Predicted Agencies: Treasury Department, Internal Revenue Service, Energy Department\n",
            "True Type: rule\n",
            "Predicted Type: rule\n",
            " \n",
            "Abstract: notice presidential declaration major disaster state florida fema 4806 dr dated august 10 2024 related determination\n",
            "True Agency Labels: Homeland Security Department, Federal Emergency Management Agency\n",
            "Predicted Agencies: Federal Emergency Management Agency, Small Business Administration, Homeland Security Department\n",
            "True Type: rule\n",
            "Predicted Type: rule\n",
            " \n",
            "Abstract: notice amends notice emergency declaration territory virgin island fema 3611 em dated august 18 2024 related determination\n",
            "True Agency Labels: Homeland Security Department, Federal Emergency Management Agency\n",
            "Predicted Agencies: Federal Emergency Management Agency, Homeland Security Department, Export-Import Bank\n",
            "True Type: rule\n",
            "Predicted Type: rule\n",
            " \n",
            "Abstract: environmental protection agency epa proposing approve title operating permit program revision submitted west virginia department environmental protection wvdep behalf state west virginia revision incorporated reference final rule promulgated epa effective june 2020 west virginia title operating permit program addition revision includes minor amendment\n",
            "True Agency Labels: Environmental Protection Agency\n",
            "Predicted Agencies: Environmental Protection Agency, Housing and Urban Development Department, Transportation Department\n",
            "True Type: proposed rule\n",
            "Predicted Type: proposed rule\n",
            " \n",
            "Abstract: board visitor national fire academy board meet virtually monday december 2024 meeting open public\n",
            "True Agency Labels: Homeland Security Department, Federal Emergency Management Agency\n",
            "Predicted Agencies: Health and Human Services Department, Homeland Security Department, Commerce Department\n",
            "True Type: rule\n",
            "Predicted Type: rule\n",
            " \n"
          ]
        }
      ]
    },
    {
      "cell_type": "markdown",
      "source": [
        "#Predictions on unseen data"
      ],
      "metadata": {
        "id": "y_JwNz5f2CNF"
      }
    },
    {
      "cell_type": "code",
      "source": [
        "def infer_model(model, text_vectorizer, raw_text):\n",
        "    preprocessed_text = text_vectorizer(tf.constant([raw_text]))\n",
        "    predictions = model(preprocessed_text)\n",
        "    agency_preds = predictions[\"agency_names\"].numpy()[0]\n",
        "    type_pred = predictions[\"type\"].numpy()[0]\n",
        "    predicted_agencies = invert_multi_hot(agency_preds > 0.5)\n",
        "    predicted_type_index = np.argmax(type_pred)\n",
        "    predicted_type = [\"rule\", \"proposed rule\", \"notice\"][predicted_type_index]\n",
        "    return predicted_agencies, predicted_type\n",
        "\n",
        "#example\n",
        "#test_text = \"The Food and Drug Administration (FDA or the Agency) has det\"\n",
        "#test_text = \"The Environmental Protection Agency announces a public hearing.\"\n",
        "test_text = \"This action establishes new safety standards for motor vehicles.\"\n",
        "predicted_agencies, predicted_type = infer_model(model, text_vectorizer, test_text)\n",
        "print(f\"text: {test_text}\")\n",
        "print(f\"Predicted Agencies: {', '.join(predicted_agencies)}\")\n",
        "print(f\"Predicted Type: {predicted_type}\")"
      ],
      "metadata": {
        "colab": {
          "base_uri": "https://localhost:8080/"
        },
        "id": "pO3hKAMG19r4",
        "outputId": "d28603f2-63e7-4759-8954-bd824bb8b275"
      },
      "execution_count": 74,
      "outputs": [
        {
          "output_type": "stream",
          "name": "stdout",
          "text": [
            "text: This action establishes new safety standards for motor vehicles.\n",
            "Predicted Agencies: Transportation Department\n",
            "Predicted Type: notice\n"
          ]
        }
      ]
    }
  ]
}